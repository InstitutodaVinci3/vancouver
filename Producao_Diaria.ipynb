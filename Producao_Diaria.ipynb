{
  "nbformat": 4,
  "nbformat_minor": 0,
  "metadata": {
    "colab": {
      "name": "Producao_Diaria.ipynb",
      "provenance": [],
      "collapsed_sections": [
        "5b0jFO22sV5E"
      ],
      "toc_visible": true,
      "include_colab_link": true
    },
    "kernelspec": {
      "name": "python3",
      "display_name": "Python 3"
    }
  },
  "cells": [
    {
      "cell_type": "markdown",
      "metadata": {
        "id": "view-in-github",
        "colab_type": "text"
      },
      "source": [
        "<a href=\"https://colab.research.google.com/github/InstitutodaVinci3/Vancouver/blob/master/Producao_Diaria.ipynb\" target=\"_parent\"><img src=\"https://colab.research.google.com/assets/colab-badge.svg\" alt=\"Open In Colab\"/></a>"
      ]
    },
    {
      "cell_type": "markdown",
      "metadata": {
        "id": "5b0jFO22sV5E"
      },
      "source": [
        "#Resumo dos Trabalhos de Coleta, Limpeza e Entendimento dos dados"
      ]
    },
    {
      "cell_type": "markdown",
      "metadata": {
        "id": "-DasBz-Lu8Fo"
      },
      "source": [
        "##Biblotecas Utilizadas"
      ]
    },
    {
      "cell_type": "code",
      "metadata": {
        "id": "Oj00MhVZfHpz"
      },
      "source": [
        "# importando as bibliotecas básicas e preparando ambiente\r\n",
        "import pandas as pd                     # convenção \r\n",
        "import numpy as np                      # convenção \r\n",
        "import random as rd                     # rd não é alias padrão mas sim adotado aqui somente \r\n",
        "# Itens adicionais\r\n",
        "import glob\r\n",
        "import os\r\n",
        "import re"
      ],
      "execution_count": 121,
      "outputs": []
    },
    {
      "cell_type": "markdown",
      "metadata": {
        "id": "75O-RlH4r89u"
      },
      "source": [
        "##Coleta e Limpeza dos Dados"
      ]
    },
    {
      "cell_type": "markdown",
      "metadata": {
        "id": "qXNAaTZLzzpi"
      },
      "source": [
        "###Passo 1 - montagem do drive para colocação dos arquivos recebidos"
      ]
    },
    {
      "cell_type": "code",
      "metadata": {
        "colab": {
          "base_uri": "https://localhost:8080/"
        },
        "id": "Ki_DsjtLKpCs",
        "outputId": "81ede6f8-b4c4-4f4e-e049-7f47d6897dab"
      },
      "source": [
        "# montagem do Google Drive para acessar os arquivos que foram disponibilizados\n",
        "from google.colab import drive\n",
        "drive.mount('/content/drive')"
      ],
      "execution_count": null,
      "outputs": [
        {
          "output_type": "stream",
          "text": [
            "Drive already mounted at /content/drive; to attempt to forcibly remount, call drive.mount(\"/content/drive\", force_remount=True).\n"
          ],
          "name": "stdout"
        }
      ]
    },
    {
      "cell_type": "markdown",
      "metadata": {
        "id": "BLE_xgrZuN32"
      },
      "source": [
        "###Passo 2 - definição da varíavel \"Filenames\" para ser utilizado no \"for\" de leitura, de forma a correr todoos os arquivos do tipo TXT existentes no caminho (path)"
      ]
    },
    {
      "cell_type": "code",
      "metadata": {
        "id": "IA9eXtg4fPtX",
        "colab": {
          "base_uri": "https://localhost:8080/"
        },
        "outputId": "ec6ea3e6-fa41-48b3-8be1-bc534efc0e58"
      },
      "source": [
        "# Defifinindo a varíavel FIlenames para ser utilizado no \"for\" de leitura\r\n",
        "#path =r'https://raw.githubusercontent.com/InstitutodaVinci3/Vancouver/master/'\r\n",
        "filenames = glob.glob('/content/drive/MyDrive/MedMep/ProducaoDiaria/*.xlsx')\r\n",
        "filenames"
      ],
      "execution_count": 122,
      "outputs": [
        {
          "output_type": "execute_result",
          "data": {
            "text/plain": [
              "['/content/drive/MyDrive/MedMep/ProducaoDiaria/Produção diária_20170903T172000.xlsx',\n",
              " '/content/drive/MyDrive/MedMep/ProducaoDiaria/Produção diária_20170904T172000.xlsx',\n",
              " '/content/drive/MyDrive/MedMep/ProducaoDiaria/Produção diária_20170901T172001.xlsx',\n",
              " '/content/drive/MyDrive/MedMep/ProducaoDiaria/Produção diária_20170902T172001.xlsx',\n",
              " '/content/drive/MyDrive/MedMep/ProducaoDiaria/Produção diária_20170922T172001.xlsx',\n",
              " '/content/drive/MyDrive/MedMep/ProducaoDiaria/Produção diária_20170916T172000.xlsx',\n",
              " '/content/drive/MyDrive/MedMep/ProducaoDiaria/Produção diária_20170915T172001.xlsx',\n",
              " '/content/drive/MyDrive/MedMep/ProducaoDiaria/Produção diária_20170919T172000.xlsx',\n",
              " '/content/drive/MyDrive/MedMep/ProducaoDiaria/Produção diária_20170917T172001.xlsx',\n",
              " '/content/drive/MyDrive/MedMep/ProducaoDiaria/Produção diária_20170920T172001.xlsx',\n",
              " '/content/drive/MyDrive/MedMep/ProducaoDiaria/Produção diária_20170918T172000.xlsx',\n",
              " '/content/drive/MyDrive/MedMep/ProducaoDiaria/Produção diária_20170914T172001.xlsx',\n",
              " '/content/drive/MyDrive/MedMep/ProducaoDiaria/Produção diária_20170913T172000.xlsx',\n",
              " '/content/drive/MyDrive/MedMep/ProducaoDiaria/Produção diária_20170912T172000.xlsx',\n",
              " '/content/drive/MyDrive/MedMep/ProducaoDiaria/Produção diária_20170911T172001.xlsx',\n",
              " '/content/drive/MyDrive/MedMep/ProducaoDiaria/Produção diária_20170910T172000.xlsx',\n",
              " '/content/drive/MyDrive/MedMep/ProducaoDiaria/Produção diária_20170908T172001.xlsx',\n",
              " '/content/drive/MyDrive/MedMep/ProducaoDiaria/Produção diária_20170907T172000.xlsx',\n",
              " '/content/drive/MyDrive/MedMep/ProducaoDiaria/Produção diária_20170909T172000.xlsx',\n",
              " '/content/drive/MyDrive/MedMep/ProducaoDiaria/Produção diária_20170906T172000.xlsx',\n",
              " '/content/drive/MyDrive/MedMep/ProducaoDiaria/Produção diária_20170905T172001.xlsx',\n",
              " '/content/drive/MyDrive/MedMep/ProducaoDiaria/Produção diária_20170927T172001.xlsx',\n",
              " '/content/drive/MyDrive/MedMep/ProducaoDiaria/Produção diária_20170930T172000.xlsx',\n",
              " '/content/drive/MyDrive/MedMep/ProducaoDiaria/Produção diária_20170929T172001.xlsx',\n",
              " '/content/drive/MyDrive/MedMep/ProducaoDiaria/Produção diária_20170928T172000.xlsx',\n",
              " '/content/drive/MyDrive/MedMep/ProducaoDiaria/Produção diária_20170926T172000.xlsx',\n",
              " '/content/drive/MyDrive/MedMep/ProducaoDiaria/Produção diária_20170925T172001.xlsx',\n",
              " '/content/drive/MyDrive/MedMep/ProducaoDiaria/Produção diária_20170924T172000.xlsx',\n",
              " '/content/drive/MyDrive/MedMep/ProducaoDiaria/Produção diária_20170923T172000.xlsx',\n",
              " '/content/drive/MyDrive/MedMep/ProducaoDiaria/Produção diária_20170921T172000.xlsx',\n",
              " '/content/drive/MyDrive/MedMep/ProducaoDiaria/Produção diária_20170701T172000.xlsx',\n",
              " '/content/drive/MyDrive/MedMep/ProducaoDiaria/Produção diária_20170706T172001.xlsx',\n",
              " '/content/drive/MyDrive/MedMep/ProducaoDiaria/Produção diária_20170702T172001.xlsx',\n",
              " '/content/drive/MyDrive/MedMep/ProducaoDiaria/Produção diária_20170709T172001.xlsx',\n",
              " '/content/drive/MyDrive/MedMep/ProducaoDiaria/Produção diária_20170708T172000.xlsx',\n",
              " '/content/drive/MyDrive/MedMep/ProducaoDiaria/Produção diária_20170707T172000.xlsx',\n",
              " '/content/drive/MyDrive/MedMep/ProducaoDiaria/Produção diária_20170704T172000.xlsx',\n",
              " '/content/drive/MyDrive/MedMep/ProducaoDiaria/Produção diária_20170705T172000.xlsx',\n",
              " '/content/drive/MyDrive/MedMep/ProducaoDiaria/Produção diária_20170703T172000.xlsx',\n",
              " '/content/drive/MyDrive/MedMep/ProducaoDiaria/Produção diária_20170731T172000.xlsx',\n",
              " '/content/drive/MyDrive/MedMep/ProducaoDiaria/Produção diária_20170728T172000.xlsx',\n",
              " '/content/drive/MyDrive/MedMep/ProducaoDiaria/Produção diária_20170729T172000.xlsx',\n",
              " '/content/drive/MyDrive/MedMep/ProducaoDiaria/Produção diária_20170725T172000.xlsx',\n",
              " '/content/drive/MyDrive/MedMep/ProducaoDiaria/Produção diária_20170727T172000.xlsx',\n",
              " '/content/drive/MyDrive/MedMep/ProducaoDiaria/Produção diária_20170730T172000.xlsx',\n",
              " '/content/drive/MyDrive/MedMep/ProducaoDiaria/Produção diária_20170724T172001.xlsx',\n",
              " '/content/drive/MyDrive/MedMep/ProducaoDiaria/Produção diária_20170726T172000.xlsx',\n",
              " '/content/drive/MyDrive/MedMep/ProducaoDiaria/Produção diária_20170723T172008.xlsx',\n",
              " '/content/drive/MyDrive/MedMep/ProducaoDiaria/Produção diária_20170716T172001.xlsx',\n",
              " '/content/drive/MyDrive/MedMep/ProducaoDiaria/Produção diária_20170718T172000.xlsx',\n",
              " '/content/drive/MyDrive/MedMep/ProducaoDiaria/Produção diária_20170717T172001.xlsx',\n",
              " '/content/drive/MyDrive/MedMep/ProducaoDiaria/Produção diária_20170719T172001.xlsx',\n",
              " '/content/drive/MyDrive/MedMep/ProducaoDiaria/Produção diária_20170715T172001.xlsx',\n",
              " '/content/drive/MyDrive/MedMep/ProducaoDiaria/Produção diária_20170713T172000.xlsx',\n",
              " '/content/drive/MyDrive/MedMep/ProducaoDiaria/Produção diária_20170721T172000.xlsx',\n",
              " '/content/drive/MyDrive/MedMep/ProducaoDiaria/Produção diária_20170722T172000.xlsx',\n",
              " '/content/drive/MyDrive/MedMep/ProducaoDiaria/Produção diária_20170720T172000.xlsx',\n",
              " '/content/drive/MyDrive/MedMep/ProducaoDiaria/Produção diária_20170714T172001.xlsx',\n",
              " '/content/drive/MyDrive/MedMep/ProducaoDiaria/Produção diária_20170711T172000.xlsx',\n",
              " '/content/drive/MyDrive/MedMep/ProducaoDiaria/Produção diária_20170712T172000.xlsx',\n",
              " '/content/drive/MyDrive/MedMep/ProducaoDiaria/Produção diária_20170710T172001.xlsx',\n",
              " '/content/drive/MyDrive/MedMep/ProducaoDiaria/Produção diária_20170804T172000.xlsx',\n",
              " '/content/drive/MyDrive/MedMep/ProducaoDiaria/Produção diária_20170807T172001.xlsx',\n",
              " '/content/drive/MyDrive/MedMep/ProducaoDiaria/Produção diária_20170803T172000.xlsx',\n",
              " '/content/drive/MyDrive/MedMep/ProducaoDiaria/Produção diária_20170828T172000.xlsx',\n",
              " '/content/drive/MyDrive/MedMep/ProducaoDiaria/Produção diária_20170830T172001.xlsx',\n",
              " '/content/drive/MyDrive/MedMep/ProducaoDiaria/Produção diária_20170831T172000.xlsx',\n",
              " '/content/drive/MyDrive/MedMep/ProducaoDiaria/Produção diária_20170825T172001.xlsx',\n",
              " '/content/drive/MyDrive/MedMep/ProducaoDiaria/Produção diária_20170827T172000.xlsx',\n",
              " '/content/drive/MyDrive/MedMep/ProducaoDiaria/Produção diária_20170822T172000.xlsx',\n",
              " '/content/drive/MyDrive/MedMep/ProducaoDiaria/Produção diária_20170824T172000.xlsx',\n",
              " '/content/drive/MyDrive/MedMep/ProducaoDiaria/Produção diária_20170821T172001.xlsx',\n",
              " '/content/drive/MyDrive/MedMep/ProducaoDiaria/Produção diária_20170820T172000.xlsx',\n",
              " '/content/drive/MyDrive/MedMep/ProducaoDiaria/Produção diária_20170829T172000.xlsx',\n",
              " '/content/drive/MyDrive/MedMep/ProducaoDiaria/Produção diária_20170823T172000.xlsx',\n",
              " '/content/drive/MyDrive/MedMep/ProducaoDiaria/Produção diária_20170819T172000.xlsx',\n",
              " '/content/drive/MyDrive/MedMep/ProducaoDiaria/Produção diária_20170826T172001.xlsx',\n",
              " '/content/drive/MyDrive/MedMep/ProducaoDiaria/Produção diária_20170814T172000.xlsx',\n",
              " '/content/drive/MyDrive/MedMep/ProducaoDiaria/Produção diária_20170816T172000.xlsx',\n",
              " '/content/drive/MyDrive/MedMep/ProducaoDiaria/Produção diária_20170813T172001.xlsx',\n",
              " '/content/drive/MyDrive/MedMep/ProducaoDiaria/Produção diária_20170817T172001.xlsx',\n",
              " '/content/drive/MyDrive/MedMep/ProducaoDiaria/Produção diária_20170812T172001.xlsx',\n",
              " '/content/drive/MyDrive/MedMep/ProducaoDiaria/Produção diária_20170810T172000.xlsx',\n",
              " '/content/drive/MyDrive/MedMep/ProducaoDiaria/Produção diária_20170818T172001.xlsx',\n",
              " '/content/drive/MyDrive/MedMep/ProducaoDiaria/Produção diária_20170809T172001.xlsx',\n",
              " '/content/drive/MyDrive/MedMep/ProducaoDiaria/Produção diária_20170815T172000.xlsx',\n",
              " '/content/drive/MyDrive/MedMep/ProducaoDiaria/Produção diária_20170808T172001.xlsx',\n",
              " '/content/drive/MyDrive/MedMep/ProducaoDiaria/Produção diária_20170806T172001.xlsx',\n",
              " '/content/drive/MyDrive/MedMep/ProducaoDiaria/Produção diária_20170802T172001.xlsx',\n",
              " '/content/drive/MyDrive/MedMep/ProducaoDiaria/Produção diária_20170805T172001.xlsx',\n",
              " '/content/drive/MyDrive/MedMep/ProducaoDiaria/Produção diária_20170811T172000.xlsx',\n",
              " '/content/drive/MyDrive/MedMep/ProducaoDiaria/Produção diária_20170801T172001.xlsx']"
            ]
          },
          "metadata": {
            "tags": []
          },
          "execution_count": 122
        }
      ]
    },
    {
      "cell_type": "markdown",
      "metadata": {
        "id": "AtfX6yidz_5V"
      },
      "source": [
        "###Passo 3 - Definição de como capturar a data que está no nome do arquivo\r\n",
        "- É necessário capturar a data inserindo-a em uma coluna adicional para que possamos utilizar os dados de produção de leite em conjunto com os dados de temperatura\r\n",
        "- Foi necessário tratar da o formato da data capturado"
      ]
    },
    {
      "cell_type": "code",
      "metadata": {
        "id": "2cPRmxePLxyY",
        "colab": {
          "base_uri": "https://localhost:8080/",
          "height": 52
        },
        "outputId": "bc3fb5fc-4cb7-4a81-d94d-8faf2e0ae43e"
      },
      "source": [
        "# Ler parte do nome do arquivo\r\n",
        "b = re.search(r'(\\d+)', '/content/drive/MyDrive/MedMep/Prod_Diaria/Produção diária_20170901T173500.xlsx')\r\n",
        "#b = re.search(r'(\\d+)', '/content/drive/MyDrive/MedMep/ProducaoDiaria/JULHO/*.xlsx')\r\n",
        "print(b[1])\r\n",
        "\r\n",
        "#Formatando Data\r\n",
        "import datetime\r\n",
        "datetime.datetime.strptime(\"20170901\", \"%Y%m%d\").strftime(\"%d/%m/%Y\")"
      ],
      "execution_count": 123,
      "outputs": [
        {
          "output_type": "stream",
          "text": [
            "20170901\n"
          ],
          "name": "stdout"
        },
        {
          "output_type": "execute_result",
          "data": {
            "application/vnd.google.colaboratory.intrinsic+json": {
              "type": "string"
            },
            "text/plain": [
              "'01/09/2017'"
            ]
          },
          "metadata": {
            "tags": []
          },
          "execution_count": 123
        }
      ]
    },
    {
      "cell_type": "markdown",
      "metadata": {
        "id": "__nCn9eI0Nv1"
      },
      "source": [
        "###Passo 4 - Leitura dos arquivos\r\n",
        "- Foram disbonibilizados 177 arquivos no formato TXT, Nomenclatura: Produção diária TXT_AAAAMMDDTHHMMSS\r\n",
        "- Foi necessário descartar a primeira linha (cabeçalho) de todos os arquivos por falta de padrão nos arquivos enviados\r\n",
        "- Foi necessário remover as duas últimas linhas que comtinham comnandos de \"end line\" e não seriam necessários ao ralizarmos a concatenação dos arquivos\r\n",
        "- Foi necessário criar uma nova definição para o cabeçalho do DataFrame\r\n",
        "- Foi necessário criar uma nova coluna para a inserção da data da coleta que estava no nome do arquivo\r\n",
        "- Os 177 arquivos foram lidos e concatenados gerando um único DataFrame unificado com todos os dados da Produção Diária de leit"
      ]
    },
    {
      "cell_type": "code",
      "metadata": {
        "id": "0L1RthKpHxS1"
      },
      "source": [
        "for filename in filenames:\r\n",
        "# Leitura dos arquivos já com o novo cabeçalho definido:\r\n",
        "  a = pd.read_excel(filename, sheet_name=1, na_values=['NaN','NA','N/A','NaT','',' '],\r\n",
        "                  names=['Grupo', 'Id_Animal', 'Num_Lac', 'Dias_Lac', 'Pico', 'Hora_S1', 'Hora_S2', 'Hora_S3',\r\n",
        "                         'Durac_S1', 'Durac_S2', 'Durac_S3', 'Prod_S1', 'Prod_S2', 'Prod_S3','Hora_S1_ont', \r\n",
        "                         'Hora_S2_ont', 'Hora_S3_ont', 'Dura_S1_ont', 'Dura_S2_ont', 'Dura_S3_ont','Prod_S1_ont', \r\n",
        "                         'Prod_S2_ont', 'Prod_S3_ont'])"
      ],
      "execution_count": 94,
      "outputs": []
    },
    {
      "cell_type": "code",
      "metadata": {
        "id": "HwCcqE627-lB",
        "colab": {
          "base_uri": "https://localhost:8080/",
          "height": 326
        },
        "outputId": "46f7877d-1498-4030-f378-4116a023a635"
      },
      "source": [
        "# Lendo os dados já com removendo o cabeçalho e rodapés dos arquivos\r\n",
        "# Necessário criar o \"Cabeçalho\" do DataFrame conforme comando asseguir:\r\n",
        "Prod_Dia_df = pd.DataFrame({'Grupo':[], 'Id_Animal':[], 'Num_Lac':[], 'Dias_Lac':[], 'Pico':[], 'Hora_S1':[],\r\n",
        "                            'Hora_S2':[], 'Hora_S3':[], 'Durac_S1':[], 'Durac_S2':[], 'Durac_S3':[],\r\n",
        "                            'Prod_S1':[], 'Prod_S2':[], 'Prod_S3':[], 'Hora_S1_ont':[], 'Hora_S2_ont':[], \r\n",
        "                            'Hora_S3_ont':[], 'Dura_S1_ont':[], 'Dura_S2_ont':[], 'Dura_S3_ont':[],\r\n",
        "                            'Prod_S1_ont':[], 'Prod_S2_ont':[], 'Prod_S3_ont':[]})\r\n",
        "\r\n",
        "# Início do looping de leitura dos arquivos\r\n",
        "for filename in filenames:\r\n",
        "\r\n",
        "# Leitura dos arquivos já com o novo cabeçalho definido:\r\n",
        "  a = pd.read_excel(filename, sheet_name=1, na_values=['NaN','NA','N/A','NaT','',' '], skipfooter=0,\r\n",
        "                  names=['Grupo', 'Id_Animal', 'Num_Lac', 'Dias_Lac', 'Pico', 'Hora_S1', 'Hora_S2', 'Hora_S3',\r\n",
        "                         'Durac_S1', 'Durac_S2', 'Durac_S3', 'Prod_S1', 'Prod_S2', 'Prod_S3','Hora_S1_ont', \r\n",
        "                         'Hora_S2_ont', 'Hora_S3_ont', 'Dura_S1_ont', 'Dura_S2_ont', 'Dura_S3_ont','Prod_S1_ont', \r\n",
        "                         'Prod_S2_ont', 'Prod_S3_ont'])\r\n",
        "# Criação da coluna adicional com a data contida no nome do arquivo:\r\n",
        "  a['Data']= datetime.datetime.strptime(re.search(r'(\\d+)', filename)[1], \"%Y%m%d\").strftime(\"%d/%m/%Y\") \r\n",
        "\r\n",
        "# Concatenando os arquivos lidos dentro do looping \r\n",
        "  Prod_Dia_df = pd.concat([Prod_Dia_df, a])\r\n",
        "# Fim do looping de leitura\r\n",
        "\r\n",
        "Prod_Dia_df.head()"
      ],
      "execution_count": 130,
      "outputs": [
        {
          "output_type": "execute_result",
          "data": {
            "text/html": [
              "<div>\n",
              "<style scoped>\n",
              "    .dataframe tbody tr th:only-of-type {\n",
              "        vertical-align: middle;\n",
              "    }\n",
              "\n",
              "    .dataframe tbody tr th {\n",
              "        vertical-align: top;\n",
              "    }\n",
              "\n",
              "    .dataframe thead th {\n",
              "        text-align: right;\n",
              "    }\n",
              "</style>\n",
              "<table border=\"1\" class=\"dataframe\">\n",
              "  <thead>\n",
              "    <tr style=\"text-align: right;\">\n",
              "      <th></th>\n",
              "      <th>Grupo</th>\n",
              "      <th>Id_Animal</th>\n",
              "      <th>Num_Lac</th>\n",
              "      <th>Dias_Lac</th>\n",
              "      <th>Pico</th>\n",
              "      <th>Hora_S1</th>\n",
              "      <th>Hora_S2</th>\n",
              "      <th>Hora_S3</th>\n",
              "      <th>Durac_S1</th>\n",
              "      <th>Durac_S2</th>\n",
              "      <th>Durac_S3</th>\n",
              "      <th>Prod_S1</th>\n",
              "      <th>Prod_S2</th>\n",
              "      <th>Prod_S3</th>\n",
              "      <th>Hora_S1_ont</th>\n",
              "      <th>Hora_S2_ont</th>\n",
              "      <th>Hora_S3_ont</th>\n",
              "      <th>Dura_S1_ont</th>\n",
              "      <th>Dura_S2_ont</th>\n",
              "      <th>Dura_S3_ont</th>\n",
              "      <th>Prod_S1_ont</th>\n",
              "      <th>Prod_S2_ont</th>\n",
              "      <th>Prod_S3_ont</th>\n",
              "      <th>Data</th>\n",
              "    </tr>\n",
              "  </thead>\n",
              "  <tbody>\n",
              "    <tr>\n",
              "      <th>0</th>\n",
              "      <td>NaN</td>\n",
              "      <td>4426.0</td>\n",
              "      <td>2.0</td>\n",
              "      <td>91.0</td>\n",
              "      <td>NaN</td>\n",
              "      <td>NaT</td>\n",
              "      <td>NaT</td>\n",
              "      <td>NaN</td>\n",
              "      <td>NaT</td>\n",
              "      <td>NaT</td>\n",
              "      <td>NaN</td>\n",
              "      <td>NaN</td>\n",
              "      <td>NaN</td>\n",
              "      <td>NaN</td>\n",
              "      <td>NaT</td>\n",
              "      <td>NaT</td>\n",
              "      <td>NaN</td>\n",
              "      <td>NaT</td>\n",
              "      <td>NaT</td>\n",
              "      <td>NaN</td>\n",
              "      <td>NaN</td>\n",
              "      <td>NaN</td>\n",
              "      <td>NaN</td>\n",
              "      <td>03/09/2017</td>\n",
              "    </tr>\n",
              "    <tr>\n",
              "      <th>1</th>\n",
              "      <td>NaN</td>\n",
              "      <td>2646.0</td>\n",
              "      <td>1.0</td>\n",
              "      <td>493.0</td>\n",
              "      <td>11.24</td>\n",
              "      <td>NaT</td>\n",
              "      <td>NaT</td>\n",
              "      <td>NaN</td>\n",
              "      <td>NaT</td>\n",
              "      <td>NaT</td>\n",
              "      <td>NaN</td>\n",
              "      <td>NaN</td>\n",
              "      <td>NaN</td>\n",
              "      <td>NaN</td>\n",
              "      <td>NaT</td>\n",
              "      <td>NaT</td>\n",
              "      <td>NaN</td>\n",
              "      <td>NaT</td>\n",
              "      <td>NaT</td>\n",
              "      <td>NaN</td>\n",
              "      <td>NaN</td>\n",
              "      <td>NaN</td>\n",
              "      <td>NaN</td>\n",
              "      <td>03/09/2017</td>\n",
              "    </tr>\n",
              "    <tr>\n",
              "      <th>2</th>\n",
              "      <td>1</td>\n",
              "      <td>3652.0</td>\n",
              "      <td>2.0</td>\n",
              "      <td>93.0</td>\n",
              "      <td>NaN</td>\n",
              "      <td>2017-09-03 08:00:00</td>\n",
              "      <td>2017-09-03 15:30:00</td>\n",
              "      <td>NaN</td>\n",
              "      <td>1901-01-05 00:00:00</td>\n",
              "      <td>1900-10-08 00:00:00</td>\n",
              "      <td>NaN</td>\n",
              "      <td>12.58</td>\n",
              "      <td>5.96</td>\n",
              "      <td>NaN</td>\n",
              "      <td>2017-09-02 08:00:00</td>\n",
              "      <td>2017-09-02 15:30:00</td>\n",
              "      <td>NaN</td>\n",
              "      <td>1901-01-30</td>\n",
              "      <td>1900-08-23 00:00:00</td>\n",
              "      <td>NaN</td>\n",
              "      <td>12.49</td>\n",
              "      <td>6.63</td>\n",
              "      <td>NaN</td>\n",
              "      <td>03/09/2017</td>\n",
              "    </tr>\n",
              "    <tr>\n",
              "      <th>3</th>\n",
              "      <td>1</td>\n",
              "      <td>653.0</td>\n",
              "      <td>2.0</td>\n",
              "      <td>128.0</td>\n",
              "      <td>NaN</td>\n",
              "      <td>2017-09-03 08:00:00</td>\n",
              "      <td>2017-09-03 15:30:00</td>\n",
              "      <td>NaN</td>\n",
              "      <td>1901-08-02 00:00:00</td>\n",
              "      <td>1901-01-14 00:00:00</td>\n",
              "      <td>NaN</td>\n",
              "      <td>18.19</td>\n",
              "      <td>8.54</td>\n",
              "      <td>NaN</td>\n",
              "      <td>2017-09-02 08:00:00</td>\n",
              "      <td>2017-09-02 15:30:00</td>\n",
              "      <td>NaN</td>\n",
              "      <td>1901-03-10</td>\n",
              "      <td>1900-12-27 00:00:00</td>\n",
              "      <td>NaN</td>\n",
              "      <td>16.06</td>\n",
              "      <td>8.86</td>\n",
              "      <td>NaN</td>\n",
              "      <td>03/09/2017</td>\n",
              "    </tr>\n",
              "    <tr>\n",
              "      <th>4</th>\n",
              "      <td>1</td>\n",
              "      <td>2623.0</td>\n",
              "      <td>1.0</td>\n",
              "      <td>94.0</td>\n",
              "      <td>NaN</td>\n",
              "      <td>2017-09-03 08:00:00</td>\n",
              "      <td>2017-09-03 15:30:00</td>\n",
              "      <td>NaN</td>\n",
              "      <td>1901-01-16 00:00:00</td>\n",
              "      <td>1900-11-24 00:00:00</td>\n",
              "      <td>NaN</td>\n",
              "      <td>12.94</td>\n",
              "      <td>7.95</td>\n",
              "      <td>NaN</td>\n",
              "      <td>2017-09-02 08:00:00</td>\n",
              "      <td>2017-09-02 15:30:00</td>\n",
              "      <td>NaN</td>\n",
              "      <td>1901-01-26</td>\n",
              "      <td>1900-11-23 00:00:00</td>\n",
              "      <td>NaN</td>\n",
              "      <td>12.49</td>\n",
              "      <td>8.20</td>\n",
              "      <td>NaN</td>\n",
              "      <td>03/09/2017</td>\n",
              "    </tr>\n",
              "  </tbody>\n",
              "</table>\n",
              "</div>"
            ],
            "text/plain": [
              "  Grupo  Id_Animal  Num_Lac  ...  Prod_S2_ont  Prod_S3_ont        Data\n",
              "0   NaN     4426.0      2.0  ...          NaN          NaN  03/09/2017\n",
              "1   NaN     2646.0      1.0  ...          NaN          NaN  03/09/2017\n",
              "2     1     3652.0      2.0  ...         6.63          NaN  03/09/2017\n",
              "3     1      653.0      2.0  ...         8.86          NaN  03/09/2017\n",
              "4     1     2623.0      1.0  ...         8.20          NaN  03/09/2017\n",
              "\n",
              "[5 rows x 24 columns]"
            ]
          },
          "metadata": {
            "tags": []
          },
          "execution_count": 130
        }
      ]
    },
    {
      "cell_type": "code",
      "metadata": {
        "id": "b2_Q10CY9MHC",
        "outputId": "abaad560-ea77-4d54-ae7e-e4ff910b2914",
        "colab": {
          "base_uri": "https://localhost:8080/",
          "height": 1000
        }
      },
      "source": [
        "Prod_Dia_limpo_df.tail(40)"
      ],
      "execution_count": 131,
      "outputs": [
        {
          "output_type": "execute_result",
          "data": {
            "text/html": [
              "<div>\n",
              "<style scoped>\n",
              "    .dataframe tbody tr th:only-of-type {\n",
              "        vertical-align: middle;\n",
              "    }\n",
              "\n",
              "    .dataframe tbody tr th {\n",
              "        vertical-align: top;\n",
              "    }\n",
              "\n",
              "    .dataframe thead th {\n",
              "        text-align: right;\n",
              "    }\n",
              "</style>\n",
              "<table border=\"1\" class=\"dataframe\">\n",
              "  <thead>\n",
              "    <tr style=\"text-align: right;\">\n",
              "      <th></th>\n",
              "      <th>Id_Animal</th>\n",
              "      <th>Hora_S1</th>\n",
              "      <th>Hora_S2</th>\n",
              "      <th>Hora_S3</th>\n",
              "      <th>Prod_S1</th>\n",
              "      <th>Prod_S2</th>\n",
              "      <th>Prod_S3</th>\n",
              "      <th>Data</th>\n",
              "    </tr>\n",
              "  </thead>\n",
              "  <tbody>\n",
              "    <tr>\n",
              "      <th>17</th>\n",
              "      <td>4557.0</td>\n",
              "      <td>2017-08-01 09:00:00</td>\n",
              "      <td>2017-08-01 16:30:00</td>\n",
              "      <td>NaN</td>\n",
              "      <td>14.19</td>\n",
              "      <td>7.12</td>\n",
              "      <td>NaN</td>\n",
              "      <td>01/08/2017</td>\n",
              "    </tr>\n",
              "    <tr>\n",
              "      <th>18</th>\n",
              "      <td>4560.0</td>\n",
              "      <td>NaT</td>\n",
              "      <td>NaT</td>\n",
              "      <td>NaN</td>\n",
              "      <td>NaN</td>\n",
              "      <td>NaN</td>\n",
              "      <td>NaN</td>\n",
              "      <td>01/08/2017</td>\n",
              "    </tr>\n",
              "    <tr>\n",
              "      <th>19</th>\n",
              "      <td>4525.0</td>\n",
              "      <td>NaT</td>\n",
              "      <td>NaT</td>\n",
              "      <td>NaN</td>\n",
              "      <td>NaN</td>\n",
              "      <td>NaN</td>\n",
              "      <td>NaN</td>\n",
              "      <td>01/08/2017</td>\n",
              "    </tr>\n",
              "    <tr>\n",
              "      <th>20</th>\n",
              "      <td>4535.0</td>\n",
              "      <td>NaT</td>\n",
              "      <td>NaT</td>\n",
              "      <td>NaN</td>\n",
              "      <td>NaN</td>\n",
              "      <td>NaN</td>\n",
              "      <td>NaN</td>\n",
              "      <td>01/08/2017</td>\n",
              "    </tr>\n",
              "    <tr>\n",
              "      <th>21</th>\n",
              "      <td>4066.0</td>\n",
              "      <td>NaT</td>\n",
              "      <td>NaT</td>\n",
              "      <td>NaN</td>\n",
              "      <td>NaN</td>\n",
              "      <td>NaN</td>\n",
              "      <td>NaN</td>\n",
              "      <td>01/08/2017</td>\n",
              "    </tr>\n",
              "    <tr>\n",
              "      <th>22</th>\n",
              "      <td>5407.0</td>\n",
              "      <td>2017-08-01 09:30:00</td>\n",
              "      <td>2017-08-01 16:30:00</td>\n",
              "      <td>NaN</td>\n",
              "      <td>12.53</td>\n",
              "      <td>8.24</td>\n",
              "      <td>NaN</td>\n",
              "      <td>01/08/2017</td>\n",
              "    </tr>\n",
              "    <tr>\n",
              "      <th>23</th>\n",
              "      <td>4583.0</td>\n",
              "      <td>2017-08-01 09:00:00</td>\n",
              "      <td>2017-08-01 16:30:00</td>\n",
              "      <td>NaN</td>\n",
              "      <td>11.57</td>\n",
              "      <td>6.40</td>\n",
              "      <td>NaN</td>\n",
              "      <td>01/08/2017</td>\n",
              "    </tr>\n",
              "    <tr>\n",
              "      <th>24</th>\n",
              "      <td>4587.0</td>\n",
              "      <td>NaT</td>\n",
              "      <td>2017-08-01 17:00:00</td>\n",
              "      <td>NaN</td>\n",
              "      <td>NaN</td>\n",
              "      <td>3.33</td>\n",
              "      <td>NaN</td>\n",
              "      <td>01/08/2017</td>\n",
              "    </tr>\n",
              "    <tr>\n",
              "      <th>25</th>\n",
              "      <td>4573.0</td>\n",
              "      <td>2017-08-01 09:00:00</td>\n",
              "      <td>2017-08-01 16:30:00</td>\n",
              "      <td>NaN</td>\n",
              "      <td>2.61</td>\n",
              "      <td>8.84</td>\n",
              "      <td>NaN</td>\n",
              "      <td>01/08/2017</td>\n",
              "    </tr>\n",
              "    <tr>\n",
              "      <th>26</th>\n",
              "      <td>4581.0</td>\n",
              "      <td>2017-08-01 09:30:00</td>\n",
              "      <td>2017-08-01 16:30:00</td>\n",
              "      <td>NaN</td>\n",
              "      <td>11.89</td>\n",
              "      <td>10.13</td>\n",
              "      <td>NaN</td>\n",
              "      <td>01/08/2017</td>\n",
              "    </tr>\n",
              "    <tr>\n",
              "      <th>27</th>\n",
              "      <td>4546.0</td>\n",
              "      <td>2017-08-01 08:30:00</td>\n",
              "      <td>NaT</td>\n",
              "      <td>NaN</td>\n",
              "      <td>13.26</td>\n",
              "      <td>NaN</td>\n",
              "      <td>NaN</td>\n",
              "      <td>01/08/2017</td>\n",
              "    </tr>\n",
              "    <tr>\n",
              "      <th>28</th>\n",
              "      <td>4548.0</td>\n",
              "      <td>2017-08-01 09:30:00</td>\n",
              "      <td>NaT</td>\n",
              "      <td>NaN</td>\n",
              "      <td>14.39</td>\n",
              "      <td>NaN</td>\n",
              "      <td>NaN</td>\n",
              "      <td>01/08/2017</td>\n",
              "    </tr>\n",
              "    <tr>\n",
              "      <th>29</th>\n",
              "      <td>4550.0</td>\n",
              "      <td>2017-08-01 09:30:00</td>\n",
              "      <td>2017-08-01 16:30:00</td>\n",
              "      <td>NaN</td>\n",
              "      <td>11.81</td>\n",
              "      <td>7.68</td>\n",
              "      <td>NaN</td>\n",
              "      <td>01/08/2017</td>\n",
              "    </tr>\n",
              "    <tr>\n",
              "      <th>30</th>\n",
              "      <td>4065.0</td>\n",
              "      <td>2017-08-01 09:00:00</td>\n",
              "      <td>2017-08-01 17:00:00</td>\n",
              "      <td>NaN</td>\n",
              "      <td>7.74</td>\n",
              "      <td>11.69</td>\n",
              "      <td>NaN</td>\n",
              "      <td>01/08/2017</td>\n",
              "    </tr>\n",
              "    <tr>\n",
              "      <th>31</th>\n",
              "      <td>5408.0</td>\n",
              "      <td>2017-08-01 09:00:00</td>\n",
              "      <td>2017-08-01 16:30:00</td>\n",
              "      <td>NaN</td>\n",
              "      <td>11.03</td>\n",
              "      <td>8.49</td>\n",
              "      <td>NaN</td>\n",
              "      <td>01/08/2017</td>\n",
              "    </tr>\n",
              "    <tr>\n",
              "      <th>32</th>\n",
              "      <td>4584.0</td>\n",
              "      <td>2017-08-01 09:00:00</td>\n",
              "      <td>2017-08-01 16:30:00</td>\n",
              "      <td>NaN</td>\n",
              "      <td>9.77</td>\n",
              "      <td>8.52</td>\n",
              "      <td>NaN</td>\n",
              "      <td>01/08/2017</td>\n",
              "    </tr>\n",
              "    <tr>\n",
              "      <th>33</th>\n",
              "      <td>4572.0</td>\n",
              "      <td>NaT</td>\n",
              "      <td>NaT</td>\n",
              "      <td>NaN</td>\n",
              "      <td>NaN</td>\n",
              "      <td>NaN</td>\n",
              "      <td>NaN</td>\n",
              "      <td>01/08/2017</td>\n",
              "    </tr>\n",
              "    <tr>\n",
              "      <th>34</th>\n",
              "      <td>4554.0</td>\n",
              "      <td>2017-08-01 09:00:00</td>\n",
              "      <td>2017-08-01 16:30:00</td>\n",
              "      <td>NaN</td>\n",
              "      <td>12.10</td>\n",
              "      <td>6.76</td>\n",
              "      <td>NaN</td>\n",
              "      <td>01/08/2017</td>\n",
              "    </tr>\n",
              "    <tr>\n",
              "      <th>35</th>\n",
              "      <td>4544.0</td>\n",
              "      <td>NaT</td>\n",
              "      <td>NaT</td>\n",
              "      <td>NaN</td>\n",
              "      <td>NaN</td>\n",
              "      <td>NaN</td>\n",
              "      <td>NaN</td>\n",
              "      <td>01/08/2017</td>\n",
              "    </tr>\n",
              "    <tr>\n",
              "      <th>36</th>\n",
              "      <td>4426.0</td>\n",
              "      <td>2017-08-01 07:30:00</td>\n",
              "      <td>2017-08-01 15:30:00</td>\n",
              "      <td>NaN</td>\n",
              "      <td>9.59</td>\n",
              "      <td>5.98</td>\n",
              "      <td>NaN</td>\n",
              "      <td>01/08/2017</td>\n",
              "    </tr>\n",
              "    <tr>\n",
              "      <th>37</th>\n",
              "      <td>2648.0</td>\n",
              "      <td>2017-08-01 07:30:00</td>\n",
              "      <td>2017-08-01 15:30:00</td>\n",
              "      <td>NaN</td>\n",
              "      <td>14.45</td>\n",
              "      <td>10.49</td>\n",
              "      <td>NaN</td>\n",
              "      <td>01/08/2017</td>\n",
              "    </tr>\n",
              "    <tr>\n",
              "      <th>38</th>\n",
              "      <td>4477.0</td>\n",
              "      <td>2017-08-01 08:30:00</td>\n",
              "      <td>2017-08-01 15:30:00</td>\n",
              "      <td>NaN</td>\n",
              "      <td>12.54</td>\n",
              "      <td>5.68</td>\n",
              "      <td>NaN</td>\n",
              "      <td>01/08/2017</td>\n",
              "    </tr>\n",
              "    <tr>\n",
              "      <th>39</th>\n",
              "      <td>4475.0</td>\n",
              "      <td>2017-08-01 08:30:00</td>\n",
              "      <td>2017-08-01 15:30:00</td>\n",
              "      <td>NaN</td>\n",
              "      <td>13.27</td>\n",
              "      <td>6.00</td>\n",
              "      <td>NaN</td>\n",
              "      <td>01/08/2017</td>\n",
              "    </tr>\n",
              "    <tr>\n",
              "      <th>40</th>\n",
              "      <td>4465.0</td>\n",
              "      <td>2017-08-01 08:00:00</td>\n",
              "      <td>2017-08-01 15:30:00</td>\n",
              "      <td>NaN</td>\n",
              "      <td>14.42</td>\n",
              "      <td>7.76</td>\n",
              "      <td>NaN</td>\n",
              "      <td>01/08/2017</td>\n",
              "    </tr>\n",
              "    <tr>\n",
              "      <th>41</th>\n",
              "      <td>3530.0</td>\n",
              "      <td>2017-08-01 07:30:00</td>\n",
              "      <td>2017-08-01 15:30:00</td>\n",
              "      <td>NaN</td>\n",
              "      <td>12.93</td>\n",
              "      <td>8.10</td>\n",
              "      <td>NaN</td>\n",
              "      <td>01/08/2017</td>\n",
              "    </tr>\n",
              "    <tr>\n",
              "      <th>42</th>\n",
              "      <td>3458.0</td>\n",
              "      <td>2017-08-01 08:00:00</td>\n",
              "      <td>2017-08-01 15:30:00</td>\n",
              "      <td>NaN</td>\n",
              "      <td>24.85</td>\n",
              "      <td>0.34</td>\n",
              "      <td>NaN</td>\n",
              "      <td>01/08/2017</td>\n",
              "    </tr>\n",
              "    <tr>\n",
              "      <th>43</th>\n",
              "      <td>3437.0</td>\n",
              "      <td>2017-08-01 08:00:00</td>\n",
              "      <td>2017-08-01 16:00:00</td>\n",
              "      <td>NaN</td>\n",
              "      <td>15.51</td>\n",
              "      <td>6.74</td>\n",
              "      <td>NaN</td>\n",
              "      <td>01/08/2017</td>\n",
              "    </tr>\n",
              "    <tr>\n",
              "      <th>44</th>\n",
              "      <td>2560.0</td>\n",
              "      <td>2017-08-01 08:00:00</td>\n",
              "      <td>2017-08-01 15:30:00</td>\n",
              "      <td>NaN</td>\n",
              "      <td>12.84</td>\n",
              "      <td>12.87</td>\n",
              "      <td>NaN</td>\n",
              "      <td>01/08/2017</td>\n",
              "    </tr>\n",
              "    <tr>\n",
              "      <th>45</th>\n",
              "      <td>2416.0</td>\n",
              "      <td>2017-08-01 08:00:00</td>\n",
              "      <td>2017-08-01 15:30:00</td>\n",
              "      <td>NaN</td>\n",
              "      <td>18.19</td>\n",
              "      <td>9.74</td>\n",
              "      <td>NaN</td>\n",
              "      <td>01/08/2017</td>\n",
              "    </tr>\n",
              "    <tr>\n",
              "      <th>46</th>\n",
              "      <td>3644.0</td>\n",
              "      <td>2017-08-01 07:30:00</td>\n",
              "      <td>2017-08-01 15:30:00</td>\n",
              "      <td>NaN</td>\n",
              "      <td>10.98</td>\n",
              "      <td>7.21</td>\n",
              "      <td>NaN</td>\n",
              "      <td>01/08/2017</td>\n",
              "    </tr>\n",
              "    <tr>\n",
              "      <th>47</th>\n",
              "      <td>3785.0</td>\n",
              "      <td>2017-08-01 08:30:00</td>\n",
              "      <td>2017-08-01 15:30:00</td>\n",
              "      <td>NaN</td>\n",
              "      <td>19.65</td>\n",
              "      <td>8.32</td>\n",
              "      <td>NaN</td>\n",
              "      <td>01/08/2017</td>\n",
              "    </tr>\n",
              "    <tr>\n",
              "      <th>48</th>\n",
              "      <td>2710.0</td>\n",
              "      <td>2017-08-01 08:00:00</td>\n",
              "      <td>2017-08-01 15:30:00</td>\n",
              "      <td>NaN</td>\n",
              "      <td>29.52</td>\n",
              "      <td>5.91</td>\n",
              "      <td>NaN</td>\n",
              "      <td>01/08/2017</td>\n",
              "    </tr>\n",
              "    <tr>\n",
              "      <th>49</th>\n",
              "      <td>3600.0</td>\n",
              "      <td>2017-08-01 08:00:00</td>\n",
              "      <td>2017-08-01 15:30:00</td>\n",
              "      <td>NaN</td>\n",
              "      <td>16.83</td>\n",
              "      <td>8.84</td>\n",
              "      <td>NaN</td>\n",
              "      <td>01/08/2017</td>\n",
              "    </tr>\n",
              "    <tr>\n",
              "      <th>50</th>\n",
              "      <td>4453.0</td>\n",
              "      <td>2017-08-01 08:30:00</td>\n",
              "      <td>2017-08-01 16:00:00</td>\n",
              "      <td>NaN</td>\n",
              "      <td>10.34</td>\n",
              "      <td>5.87</td>\n",
              "      <td>NaN</td>\n",
              "      <td>01/08/2017</td>\n",
              "    </tr>\n",
              "    <tr>\n",
              "      <th>51</th>\n",
              "      <td>3538.0</td>\n",
              "      <td>NaT</td>\n",
              "      <td>NaT</td>\n",
              "      <td>NaN</td>\n",
              "      <td>NaN</td>\n",
              "      <td>NaN</td>\n",
              "      <td>NaN</td>\n",
              "      <td>01/08/2017</td>\n",
              "    </tr>\n",
              "    <tr>\n",
              "      <th>52</th>\n",
              "      <td>3460.0</td>\n",
              "      <td>2017-08-01 07:30:00</td>\n",
              "      <td>2017-08-01 15:30:00</td>\n",
              "      <td>NaN</td>\n",
              "      <td>20.00</td>\n",
              "      <td>10.70</td>\n",
              "      <td>NaN</td>\n",
              "      <td>01/08/2017</td>\n",
              "    </tr>\n",
              "    <tr>\n",
              "      <th>53</th>\n",
              "      <td>2483.0</td>\n",
              "      <td>2017-08-01 08:00:00</td>\n",
              "      <td>2017-08-01 15:30:00</td>\n",
              "      <td>NaN</td>\n",
              "      <td>13.69</td>\n",
              "      <td>6.51</td>\n",
              "      <td>NaN</td>\n",
              "      <td>01/08/2017</td>\n",
              "    </tr>\n",
              "    <tr>\n",
              "      <th>54</th>\n",
              "      <td>2431.0</td>\n",
              "      <td>2017-08-01 08:00:00</td>\n",
              "      <td>2017-08-01 16:00:00</td>\n",
              "      <td>NaN</td>\n",
              "      <td>31.83</td>\n",
              "      <td>7.91</td>\n",
              "      <td>NaN</td>\n",
              "      <td>01/08/2017</td>\n",
              "    </tr>\n",
              "    <tr>\n",
              "      <th>55</th>\n",
              "      <td>55.0</td>\n",
              "      <td>NaT</td>\n",
              "      <td>NaT</td>\n",
              "      <td>NaN</td>\n",
              "      <td>513.19</td>\n",
              "      <td>254.05</td>\n",
              "      <td>NaN</td>\n",
              "      <td>01/08/2017</td>\n",
              "    </tr>\n",
              "    <tr>\n",
              "      <th>56</th>\n",
              "      <td>NaN</td>\n",
              "      <td>NaT</td>\n",
              "      <td>NaT</td>\n",
              "      <td>NaN</td>\n",
              "      <td>NaN</td>\n",
              "      <td>NaN</td>\n",
              "      <td>NaN</td>\n",
              "      <td>01/08/2017</td>\n",
              "    </tr>\n",
              "  </tbody>\n",
              "</table>\n",
              "</div>"
            ],
            "text/plain": [
              "    Id_Animal              Hora_S1  ... Prod_S3        Data\n",
              "17     4557.0  2017-08-01 09:00:00  ...     NaN  01/08/2017\n",
              "18     4560.0                  NaT  ...     NaN  01/08/2017\n",
              "19     4525.0                  NaT  ...     NaN  01/08/2017\n",
              "20     4535.0                  NaT  ...     NaN  01/08/2017\n",
              "21     4066.0                  NaT  ...     NaN  01/08/2017\n",
              "22     5407.0  2017-08-01 09:30:00  ...     NaN  01/08/2017\n",
              "23     4583.0  2017-08-01 09:00:00  ...     NaN  01/08/2017\n",
              "24     4587.0                  NaT  ...     NaN  01/08/2017\n",
              "25     4573.0  2017-08-01 09:00:00  ...     NaN  01/08/2017\n",
              "26     4581.0  2017-08-01 09:30:00  ...     NaN  01/08/2017\n",
              "27     4546.0  2017-08-01 08:30:00  ...     NaN  01/08/2017\n",
              "28     4548.0  2017-08-01 09:30:00  ...     NaN  01/08/2017\n",
              "29     4550.0  2017-08-01 09:30:00  ...     NaN  01/08/2017\n",
              "30     4065.0  2017-08-01 09:00:00  ...     NaN  01/08/2017\n",
              "31     5408.0  2017-08-01 09:00:00  ...     NaN  01/08/2017\n",
              "32     4584.0  2017-08-01 09:00:00  ...     NaN  01/08/2017\n",
              "33     4572.0                  NaT  ...     NaN  01/08/2017\n",
              "34     4554.0  2017-08-01 09:00:00  ...     NaN  01/08/2017\n",
              "35     4544.0                  NaT  ...     NaN  01/08/2017\n",
              "36     4426.0  2017-08-01 07:30:00  ...     NaN  01/08/2017\n",
              "37     2648.0  2017-08-01 07:30:00  ...     NaN  01/08/2017\n",
              "38     4477.0  2017-08-01 08:30:00  ...     NaN  01/08/2017\n",
              "39     4475.0  2017-08-01 08:30:00  ...     NaN  01/08/2017\n",
              "40     4465.0  2017-08-01 08:00:00  ...     NaN  01/08/2017\n",
              "41     3530.0  2017-08-01 07:30:00  ...     NaN  01/08/2017\n",
              "42     3458.0  2017-08-01 08:00:00  ...     NaN  01/08/2017\n",
              "43     3437.0  2017-08-01 08:00:00  ...     NaN  01/08/2017\n",
              "44     2560.0  2017-08-01 08:00:00  ...     NaN  01/08/2017\n",
              "45     2416.0  2017-08-01 08:00:00  ...     NaN  01/08/2017\n",
              "46     3644.0  2017-08-01 07:30:00  ...     NaN  01/08/2017\n",
              "47     3785.0  2017-08-01 08:30:00  ...     NaN  01/08/2017\n",
              "48     2710.0  2017-08-01 08:00:00  ...     NaN  01/08/2017\n",
              "49     3600.0  2017-08-01 08:00:00  ...     NaN  01/08/2017\n",
              "50     4453.0  2017-08-01 08:30:00  ...     NaN  01/08/2017\n",
              "51     3538.0                  NaT  ...     NaN  01/08/2017\n",
              "52     3460.0  2017-08-01 07:30:00  ...     NaN  01/08/2017\n",
              "53     2483.0  2017-08-01 08:00:00  ...     NaN  01/08/2017\n",
              "54     2431.0  2017-08-01 08:00:00  ...     NaN  01/08/2017\n",
              "55       55.0                  NaT  ...     NaN  01/08/2017\n",
              "56        NaN                  NaT  ...     NaN  01/08/2017\n",
              "\n",
              "[40 rows x 8 columns]"
            ]
          },
          "metadata": {
            "tags": []
          },
          "execution_count": 131
        }
      ]
    },
    {
      "cell_type": "code",
      "metadata": {
        "id": "UmQgejvXQSdB"
      },
      "source": [
        "# Exportando dados dos arquivos unificados mas não limpos para CSV\r\n",
        "Prod_Dia_df.to_csv(\"/content/drive/MyDrive/MedMep/ProducaoDiaria/Prod_Diaria_Unif_Sujo.csv\")"
      ],
      "execution_count": 132,
      "outputs": []
    },
    {
      "cell_type": "markdown",
      "metadata": {
        "id": "svh3psQwCiMl"
      },
      "source": [
        "###Limpeza do arquivo unificado\r\n",
        "- Remoção das colunas com dados não pertinentes ou que estavam em branco:\r\n",
        "- Informações sobre o Grupo não dizem nada ao nosso estudo (não se sabe o critério utilizado no agrupamento), \r\n",
        "- Numero de dias de lactação. Dado existe somente para poucos animais,\r\n",
        "- Pico de produção. Dado existe somente para poucos animais e não se sabe o seu significado,\r\n",
        "- Dura_Sx. Refere-se a duração da sessão de ordenha. Dado existe somente para poucas sessões de ordenha,\r\n",
        "- Dura_Sx_ont. Refere-se a duração da sessão de ordenha do dia anterior. Dado existe somente para poucas sessões de ordenha,\r\n",
        "- Prod_Sx_ont. Refere-se a produção da sessão Sx do dia anterior. Dado existe somente para poucas sessões e animais."
      ]
    },
    {
      "cell_type": "code",
      "metadata": {
        "id": "yGR7ok7zEte-"
      },
      "source": [
        "Prod_Dia_limpo_df = Prod_Dia_df.drop(columns=['Grupo', 'Num_Lac', 'Dias_Lac', 'Pico', 'Durac_S1', 'Durac_S2', 'Durac_S3', \r\n",
        "                                              'Hora_S1_ont', 'Hora_S2_ont', 'Hora_S3_ont', 'Dura_S1_ont', 'Dura_S2_ont', \"Dura_S3_ont\",\r\n",
        "                                              'Prod_S1_ont', 'Prod_S2_ont', 'Prod_S3_ont'])\r\n",
        "# Prod_Dia_limpo_df.head()\r\n",
        "\r\n",
        "# Prod_Dia_df.drop(columns=['Grupo', 'Num_Lac', 'Dias_Lac', 'Pico', 'Durac_S1', 'Durac_S2', 'Durac_S3', \r\n",
        "#          'Hora_S1_ont', 'Hora_S2_ont', 'Hora_S3_ont', 'Dura_S1_ont', 'Dura_S2_ont', \"Dura_S3_ont\",\r\n",
        "#          'Prod_S1_ont', 'Prod_S2_ont', 'Prod_S3_ont'], inplace=True)\r\n",
        "# Prod_Dia_df.head()"
      ],
      "execution_count": 98,
      "outputs": []
    },
    {
      "cell_type": "code",
      "metadata": {
        "id": "3NT6_eTNf3ko",
        "colab": {
          "base_uri": "https://localhost:8080/",
          "height": 204
        },
        "outputId": "4df04caf-f8c9-4ea5-97de-48d702d6b0bf"
      },
      "source": [
        "# Exibindo as primeiras linhas do arquivo\r\n",
        "Prod_Dia_limpo_df.head()"
      ],
      "execution_count": 106,
      "outputs": [
        {
          "output_type": "execute_result",
          "data": {
            "text/html": [
              "<div>\n",
              "<style scoped>\n",
              "    .dataframe tbody tr th:only-of-type {\n",
              "        vertical-align: middle;\n",
              "    }\n",
              "\n",
              "    .dataframe tbody tr th {\n",
              "        vertical-align: top;\n",
              "    }\n",
              "\n",
              "    .dataframe thead th {\n",
              "        text-align: right;\n",
              "    }\n",
              "</style>\n",
              "<table border=\"1\" class=\"dataframe\">\n",
              "  <thead>\n",
              "    <tr style=\"text-align: right;\">\n",
              "      <th></th>\n",
              "      <th>Id_Animal</th>\n",
              "      <th>Hora_S1</th>\n",
              "      <th>Hora_S2</th>\n",
              "      <th>Hora_S3</th>\n",
              "      <th>Prod_S1</th>\n",
              "      <th>Prod_S2</th>\n",
              "      <th>Prod_S3</th>\n",
              "      <th>Data</th>\n",
              "    </tr>\n",
              "  </thead>\n",
              "  <tbody>\n",
              "    <tr>\n",
              "      <th>0</th>\n",
              "      <td>4426.0</td>\n",
              "      <td>NaT</td>\n",
              "      <td>NaT</td>\n",
              "      <td>NaN</td>\n",
              "      <td>NaN</td>\n",
              "      <td>NaN</td>\n",
              "      <td>NaN</td>\n",
              "      <td>03/09/2017</td>\n",
              "    </tr>\n",
              "    <tr>\n",
              "      <th>1</th>\n",
              "      <td>2646.0</td>\n",
              "      <td>NaT</td>\n",
              "      <td>NaT</td>\n",
              "      <td>NaN</td>\n",
              "      <td>NaN</td>\n",
              "      <td>NaN</td>\n",
              "      <td>NaN</td>\n",
              "      <td>03/09/2017</td>\n",
              "    </tr>\n",
              "    <tr>\n",
              "      <th>2</th>\n",
              "      <td>3652.0</td>\n",
              "      <td>2017-09-03 08:00:00</td>\n",
              "      <td>2017-09-03 15:30:00</td>\n",
              "      <td>NaN</td>\n",
              "      <td>12.58</td>\n",
              "      <td>5.96</td>\n",
              "      <td>NaN</td>\n",
              "      <td>03/09/2017</td>\n",
              "    </tr>\n",
              "    <tr>\n",
              "      <th>3</th>\n",
              "      <td>653.0</td>\n",
              "      <td>2017-09-03 08:00:00</td>\n",
              "      <td>2017-09-03 15:30:00</td>\n",
              "      <td>NaN</td>\n",
              "      <td>18.19</td>\n",
              "      <td>8.54</td>\n",
              "      <td>NaN</td>\n",
              "      <td>03/09/2017</td>\n",
              "    </tr>\n",
              "    <tr>\n",
              "      <th>4</th>\n",
              "      <td>2623.0</td>\n",
              "      <td>2017-09-03 08:00:00</td>\n",
              "      <td>2017-09-03 15:30:00</td>\n",
              "      <td>NaN</td>\n",
              "      <td>12.94</td>\n",
              "      <td>7.95</td>\n",
              "      <td>NaN</td>\n",
              "      <td>03/09/2017</td>\n",
              "    </tr>\n",
              "  </tbody>\n",
              "</table>\n",
              "</div>"
            ],
            "text/plain": [
              "   Id_Animal              Hora_S1  ... Prod_S3        Data\n",
              "0     4426.0                  NaT  ...     NaN  03/09/2017\n",
              "1     2646.0                  NaT  ...     NaN  03/09/2017\n",
              "2     3652.0  2017-09-03 08:00:00  ...     NaN  03/09/2017\n",
              "3      653.0  2017-09-03 08:00:00  ...     NaN  03/09/2017\n",
              "4     2623.0  2017-09-03 08:00:00  ...     NaN  03/09/2017\n",
              "\n",
              "[5 rows x 8 columns]"
            ]
          },
          "metadata": {
            "tags": []
          },
          "execution_count": 106
        }
      ]
    },
    {
      "cell_type": "markdown",
      "metadata": {
        "id": "Ozqf6AH3SA-5"
      },
      "source": [
        "- Hora_Sx refere-se a hora que se iniciou a sessão de ordenha X no formato HH:00\r\n",
        "- Prod_Sx refere-se a produção de leite da sessão X em KG"
      ]
    },
    {
      "cell_type": "code",
      "metadata": {
        "id": "1J9CG_Paf8Yw",
        "colab": {
          "base_uri": "https://localhost:8080/",
          "height": 204
        },
        "outputId": "b0d1e908-d503-4d6c-c891-d20030638e28"
      },
      "source": [
        "# Exibindo as últimas linhas do arquivo\r\n",
        "Prod_Dia_limpo_df.tail()"
      ],
      "execution_count": 100,
      "outputs": [
        {
          "output_type": "execute_result",
          "data": {
            "text/html": [
              "<div>\n",
              "<style scoped>\n",
              "    .dataframe tbody tr th:only-of-type {\n",
              "        vertical-align: middle;\n",
              "    }\n",
              "\n",
              "    .dataframe tbody tr th {\n",
              "        vertical-align: top;\n",
              "    }\n",
              "\n",
              "    .dataframe thead th {\n",
              "        text-align: right;\n",
              "    }\n",
              "</style>\n",
              "<table border=\"1\" class=\"dataframe\">\n",
              "  <thead>\n",
              "    <tr style=\"text-align: right;\">\n",
              "      <th></th>\n",
              "      <th>Id_Animal</th>\n",
              "      <th>Hora_S1</th>\n",
              "      <th>Hora_S2</th>\n",
              "      <th>Hora_S3</th>\n",
              "      <th>Prod_S1</th>\n",
              "      <th>Prod_S2</th>\n",
              "      <th>Prod_S3</th>\n",
              "      <th>Data</th>\n",
              "    </tr>\n",
              "  </thead>\n",
              "  <tbody>\n",
              "    <tr>\n",
              "      <th>52</th>\n",
              "      <td>3460.0</td>\n",
              "      <td>2017-08-01 07:30:00</td>\n",
              "      <td>2017-08-01 15:30:00</td>\n",
              "      <td>NaN</td>\n",
              "      <td>20.00</td>\n",
              "      <td>10.70</td>\n",
              "      <td>NaN</td>\n",
              "      <td>01/08/2017</td>\n",
              "    </tr>\n",
              "    <tr>\n",
              "      <th>53</th>\n",
              "      <td>2483.0</td>\n",
              "      <td>2017-08-01 08:00:00</td>\n",
              "      <td>2017-08-01 15:30:00</td>\n",
              "      <td>NaN</td>\n",
              "      <td>13.69</td>\n",
              "      <td>6.51</td>\n",
              "      <td>NaN</td>\n",
              "      <td>01/08/2017</td>\n",
              "    </tr>\n",
              "    <tr>\n",
              "      <th>54</th>\n",
              "      <td>2431.0</td>\n",
              "      <td>2017-08-01 08:00:00</td>\n",
              "      <td>2017-08-01 16:00:00</td>\n",
              "      <td>NaN</td>\n",
              "      <td>31.83</td>\n",
              "      <td>7.91</td>\n",
              "      <td>NaN</td>\n",
              "      <td>01/08/2017</td>\n",
              "    </tr>\n",
              "    <tr>\n",
              "      <th>55</th>\n",
              "      <td>55.0</td>\n",
              "      <td>NaT</td>\n",
              "      <td>NaT</td>\n",
              "      <td>NaN</td>\n",
              "      <td>513.19</td>\n",
              "      <td>254.05</td>\n",
              "      <td>NaN</td>\n",
              "      <td>01/08/2017</td>\n",
              "    </tr>\n",
              "    <tr>\n",
              "      <th>56</th>\n",
              "      <td>NaN</td>\n",
              "      <td>NaT</td>\n",
              "      <td>NaT</td>\n",
              "      <td>NaN</td>\n",
              "      <td>NaN</td>\n",
              "      <td>NaN</td>\n",
              "      <td>NaN</td>\n",
              "      <td>01/08/2017</td>\n",
              "    </tr>\n",
              "  </tbody>\n",
              "</table>\n",
              "</div>"
            ],
            "text/plain": [
              "    Id_Animal              Hora_S1  ... Prod_S3        Data\n",
              "52     3460.0  2017-08-01 07:30:00  ...     NaN  01/08/2017\n",
              "53     2483.0  2017-08-01 08:00:00  ...     NaN  01/08/2017\n",
              "54     2431.0  2017-08-01 08:00:00  ...     NaN  01/08/2017\n",
              "55       55.0                  NaT  ...     NaN  01/08/2017\n",
              "56        NaN                  NaT  ...     NaN  01/08/2017\n",
              "\n",
              "[5 rows x 8 columns]"
            ]
          },
          "metadata": {
            "tags": []
          },
          "execution_count": 100
        }
      ]
    },
    {
      "cell_type": "markdown",
      "metadata": {
        "id": "imBIxpR1NKsF"
      },
      "source": [
        "###Salvando os dados limpos em arquivo para utilização futura\r\n",
        "- Será salvo no formato CSV de maneira a facilitar a leitura nas próximas etapas"
      ]
    },
    {
      "cell_type": "code",
      "metadata": {
        "id": "b5hjUZMmgZuQ"
      },
      "source": [
        "# Exportando dados dos arquivos unificados e limpos para CSV\r\n",
        "Prod_Dia_limpo_df.to_csv(\"/content/drive/MyDrive/MedMep/ProducaoDiaria/Prod_Diaria_Unificado.csv\")"
      ],
      "execution_count": 107,
      "outputs": []
    },
    {
      "cell_type": "markdown",
      "metadata": {
        "id": "2QHUI_-1M7Li"
      },
      "source": [
        "##Entendendo os dados\r\n"
      ]
    },
    {
      "cell_type": "markdown",
      "metadata": {
        "id": "6LWdZBdFRZyS"
      },
      "source": [
        "###Estatística descritiva - análise inicial"
      ]
    },
    {
      "cell_type": "code",
      "metadata": {
        "colab": {
          "base_uri": "https://localhost:8080/",
          "height": 204
        },
        "id": "rXt-r5l9smqW",
        "outputId": "a3b8f0ed-c670-4699-ca5c-d1de822a580f"
      },
      "source": [
        "df=pd.read_csv('https://raw.githubusercontent.com/InstitutodaVinci3/Vancouver/master/Prod_Diaria_Unificado.csv')\r\n",
        "df.head()"
      ],
      "execution_count": 110,
      "outputs": [
        {
          "output_type": "execute_result",
          "data": {
            "text/html": [
              "<div>\n",
              "<style scoped>\n",
              "    .dataframe tbody tr th:only-of-type {\n",
              "        vertical-align: middle;\n",
              "    }\n",
              "\n",
              "    .dataframe tbody tr th {\n",
              "        vertical-align: top;\n",
              "    }\n",
              "\n",
              "    .dataframe thead th {\n",
              "        text-align: right;\n",
              "    }\n",
              "</style>\n",
              "<table border=\"1\" class=\"dataframe\">\n",
              "  <thead>\n",
              "    <tr style=\"text-align: right;\">\n",
              "      <th></th>\n",
              "      <th>Unnamed: 0</th>\n",
              "      <th>Id_Animal</th>\n",
              "      <th>Hora_S1</th>\n",
              "      <th>Hora_S2</th>\n",
              "      <th>Hora_S3</th>\n",
              "      <th>Prod_S1</th>\n",
              "      <th>Prod_S2</th>\n",
              "      <th>Prod_S3</th>\n",
              "      <th>Data</th>\n",
              "    </tr>\n",
              "  </thead>\n",
              "  <tbody>\n",
              "    <tr>\n",
              "      <th>0</th>\n",
              "      <td>0</td>\n",
              "      <td>4426.0</td>\n",
              "      <td>NaN</td>\n",
              "      <td>NaN</td>\n",
              "      <td>NaN</td>\n",
              "      <td>NaN</td>\n",
              "      <td>NaN</td>\n",
              "      <td>NaN</td>\n",
              "      <td>03/09/2017</td>\n",
              "    </tr>\n",
              "    <tr>\n",
              "      <th>1</th>\n",
              "      <td>1</td>\n",
              "      <td>2646.0</td>\n",
              "      <td>NaN</td>\n",
              "      <td>NaN</td>\n",
              "      <td>NaN</td>\n",
              "      <td>NaN</td>\n",
              "      <td>NaN</td>\n",
              "      <td>NaN</td>\n",
              "      <td>03/09/2017</td>\n",
              "    </tr>\n",
              "    <tr>\n",
              "      <th>2</th>\n",
              "      <td>2</td>\n",
              "      <td>3652.0</td>\n",
              "      <td>2017-09-03 08:00:00</td>\n",
              "      <td>2017-09-03 15:30:00</td>\n",
              "      <td>NaN</td>\n",
              "      <td>12.58</td>\n",
              "      <td>5.96</td>\n",
              "      <td>NaN</td>\n",
              "      <td>03/09/2017</td>\n",
              "    </tr>\n",
              "    <tr>\n",
              "      <th>3</th>\n",
              "      <td>3</td>\n",
              "      <td>653.0</td>\n",
              "      <td>2017-09-03 08:00:00</td>\n",
              "      <td>2017-09-03 15:30:00</td>\n",
              "      <td>NaN</td>\n",
              "      <td>18.19</td>\n",
              "      <td>8.54</td>\n",
              "      <td>NaN</td>\n",
              "      <td>03/09/2017</td>\n",
              "    </tr>\n",
              "    <tr>\n",
              "      <th>4</th>\n",
              "      <td>4</td>\n",
              "      <td>2623.0</td>\n",
              "      <td>2017-09-03 08:00:00</td>\n",
              "      <td>2017-09-03 15:30:00</td>\n",
              "      <td>NaN</td>\n",
              "      <td>12.94</td>\n",
              "      <td>7.95</td>\n",
              "      <td>NaN</td>\n",
              "      <td>03/09/2017</td>\n",
              "    </tr>\n",
              "  </tbody>\n",
              "</table>\n",
              "</div>"
            ],
            "text/plain": [
              "   Unnamed: 0  Id_Animal              Hora_S1  ... Prod_S2 Prod_S3        Data\n",
              "0           0     4426.0                  NaN  ...     NaN     NaN  03/09/2017\n",
              "1           1     2646.0                  NaN  ...     NaN     NaN  03/09/2017\n",
              "2           2     3652.0  2017-09-03 08:00:00  ...    5.96     NaN  03/09/2017\n",
              "3           3      653.0  2017-09-03 08:00:00  ...    8.54     NaN  03/09/2017\n",
              "4           4     2623.0  2017-09-03 08:00:00  ...    7.95     NaN  03/09/2017\n",
              "\n",
              "[5 rows x 9 columns]"
            ]
          },
          "metadata": {
            "tags": []
          },
          "execution_count": 110
        }
      ]
    },
    {
      "cell_type": "code",
      "metadata": {
        "colab": {
          "base_uri": "https://localhost:8080/"
        },
        "id": "t02uP1S8YxlX",
        "outputId": "85040fc0-003e-4d30-aff6-dddc35ac16db"
      },
      "source": [
        "df.shape"
      ],
      "execution_count": 111,
      "outputs": [
        {
          "output_type": "execute_result",
          "data": {
            "text/plain": [
              "(6302, 9)"
            ]
          },
          "metadata": {
            "tags": []
          },
          "execution_count": 111
        }
      ]
    },
    {
      "cell_type": "code",
      "metadata": {
        "colab": {
          "base_uri": "https://localhost:8080/",
          "height": 297
        },
        "id": "iz5yzYVaXGDn",
        "outputId": "f212e4b6-41eb-4ff2-aa76-1bc716072388"
      },
      "source": [
        "df.describe()"
      ],
      "execution_count": 112,
      "outputs": [
        {
          "output_type": "execute_result",
          "data": {
            "text/html": [
              "<div>\n",
              "<style scoped>\n",
              "    .dataframe tbody tr th:only-of-type {\n",
              "        vertical-align: middle;\n",
              "    }\n",
              "\n",
              "    .dataframe tbody tr th {\n",
              "        vertical-align: top;\n",
              "    }\n",
              "\n",
              "    .dataframe thead th {\n",
              "        text-align: right;\n",
              "    }\n",
              "</style>\n",
              "<table border=\"1\" class=\"dataframe\">\n",
              "  <thead>\n",
              "    <tr style=\"text-align: right;\">\n",
              "      <th></th>\n",
              "      <th>Unnamed: 0</th>\n",
              "      <th>Id_Animal</th>\n",
              "      <th>Prod_S1</th>\n",
              "      <th>Prod_S2</th>\n",
              "      <th>Prod_S3</th>\n",
              "    </tr>\n",
              "  </thead>\n",
              "  <tbody>\n",
              "    <tr>\n",
              "      <th>count</th>\n",
              "      <td>6302.000000</td>\n",
              "      <td>6210.000000</td>\n",
              "      <td>4141.000000</td>\n",
              "      <td>3137.000000</td>\n",
              "      <td>751.000000</td>\n",
              "    </tr>\n",
              "    <tr>\n",
              "      <th>mean</th>\n",
              "      <td>34.350682</td>\n",
              "      <td>3977.403382</td>\n",
              "      <td>22.946916</td>\n",
              "      <td>12.405827</td>\n",
              "      <td>6.394780</td>\n",
              "    </tr>\n",
              "    <tr>\n",
              "      <th>std</th>\n",
              "      <td>20.743286</td>\n",
              "      <td>1009.400379</td>\n",
              "      <td>75.865345</td>\n",
              "      <td>39.845768</td>\n",
              "      <td>2.358338</td>\n",
              "    </tr>\n",
              "    <tr>\n",
              "      <th>min</th>\n",
              "      <td>0.000000</td>\n",
              "      <td>55.000000</td>\n",
              "      <td>0.000000</td>\n",
              "      <td>0.000000</td>\n",
              "      <td>0.010000</td>\n",
              "    </tr>\n",
              "    <tr>\n",
              "      <th>25%</th>\n",
              "      <td>17.000000</td>\n",
              "      <td>3475.000000</td>\n",
              "      <td>9.520000</td>\n",
              "      <td>5.110000</td>\n",
              "      <td>5.320000</td>\n",
              "    </tr>\n",
              "    <tr>\n",
              "      <th>50%</th>\n",
              "      <td>34.000000</td>\n",
              "      <td>4475.000000</td>\n",
              "      <td>11.910000</td>\n",
              "      <td>6.380000</td>\n",
              "      <td>6.560000</td>\n",
              "    </tr>\n",
              "    <tr>\n",
              "      <th>75%</th>\n",
              "      <td>51.000000</td>\n",
              "      <td>4572.000000</td>\n",
              "      <td>14.090000</td>\n",
              "      <td>7.640000</td>\n",
              "      <td>7.595000</td>\n",
              "    </tr>\n",
              "    <tr>\n",
              "      <th>max</th>\n",
              "      <td>75.000000</td>\n",
              "      <td>5409.000000</td>\n",
              "      <td>699.320000</td>\n",
              "      <td>417.880000</td>\n",
              "      <td>18.210000</td>\n",
              "    </tr>\n",
              "  </tbody>\n",
              "</table>\n",
              "</div>"
            ],
            "text/plain": [
              "        Unnamed: 0    Id_Animal      Prod_S1      Prod_S2     Prod_S3\n",
              "count  6302.000000  6210.000000  4141.000000  3137.000000  751.000000\n",
              "mean     34.350682  3977.403382    22.946916    12.405827    6.394780\n",
              "std      20.743286  1009.400379    75.865345    39.845768    2.358338\n",
              "min       0.000000    55.000000     0.000000     0.000000    0.010000\n",
              "25%      17.000000  3475.000000     9.520000     5.110000    5.320000\n",
              "50%      34.000000  4475.000000    11.910000     6.380000    6.560000\n",
              "75%      51.000000  4572.000000    14.090000     7.640000    7.595000\n",
              "max      75.000000  5409.000000   699.320000   417.880000   18.210000"
            ]
          },
          "metadata": {
            "tags": []
          },
          "execution_count": 112
        }
      ]
    },
    {
      "cell_type": "markdown",
      "metadata": {
        "id": "RPi-J_IdXZ9o"
      },
      "source": [
        "- A função Describe não realizou as estastíticas para as colunas Prod_Sx (ñ estão sendo entendidos como numéricos?)"
      ]
    },
    {
      "cell_type": "code",
      "metadata": {
        "colab": {
          "base_uri": "https://localhost:8080/"
        },
        "id": "8UoGzld9Rm8J",
        "outputId": "578f66f3-e19c-494c-bb13-6a24870f6607"
      },
      "source": [
        "df.Prod_S1.describe()"
      ],
      "execution_count": 119,
      "outputs": [
        {
          "output_type": "execute_result",
          "data": {
            "text/plain": [
              "count    4141.000000\n",
              "mean       22.946916\n",
              "std        75.865345\n",
              "min         0.000000\n",
              "25%         9.520000\n",
              "50%        11.910000\n",
              "75%        14.090000\n",
              "max       699.320000\n",
              "Name: Prod_S1, dtype: float64"
            ]
          },
          "metadata": {
            "tags": []
          },
          "execution_count": 119
        }
      ]
    },
    {
      "cell_type": "code",
      "metadata": {
        "id": "OlQ1F7M-7fC4",
        "outputId": "cb0988b3-1e40-4d98-c7c6-90cc2570fd91",
        "colab": {
          "base_uri": "https://localhost:8080/"
        }
      },
      "source": [
        "from google.colab import drive\n",
        "drive.mount('/content/drive')"
      ],
      "execution_count": 120,
      "outputs": [
        {
          "output_type": "stream",
          "text": [
            "Drive already mounted at /content/drive; to attempt to forcibly remount, call drive.mount(\"/content/drive\", force_remount=True).\n"
          ],
          "name": "stdout"
        }
      ]
    },
    {
      "cell_type": "code",
      "metadata": {
        "colab": {
          "base_uri": "https://localhost:8080/"
        },
        "id": "wPMgg5s_UA1l",
        "outputId": "5163176d-3cb3-49e6-e2fe-8ccb5ebfc45d"
      },
      "source": [
        "df.Prod_S2.describe()"
      ],
      "execution_count": 114,
      "outputs": [
        {
          "output_type": "execute_result",
          "data": {
            "text/plain": [
              "count    3137.000000\n",
              "mean       12.405827\n",
              "std        39.845768\n",
              "min         0.000000\n",
              "25%         5.110000\n",
              "50%         6.380000\n",
              "75%         7.640000\n",
              "max       417.880000\n",
              "Name: Prod_S2, dtype: float64"
            ]
          },
          "metadata": {
            "tags": []
          },
          "execution_count": 114
        }
      ]
    },
    {
      "cell_type": "code",
      "metadata": {
        "colab": {
          "base_uri": "https://localhost:8080/"
        },
        "id": "8qlwuOzaUK5M",
        "outputId": "4d1b6d28-0183-43b8-e7a1-d08cc2acc8d6"
      },
      "source": [
        "df.Prod_S3.describe()"
      ],
      "execution_count": 115,
      "outputs": [
        {
          "output_type": "execute_result",
          "data": {
            "text/plain": [
              "count    751.000000\n",
              "mean       6.394780\n",
              "std        2.358338\n",
              "min        0.010000\n",
              "25%        5.320000\n",
              "50%        6.560000\n",
              "75%        7.595000\n",
              "max       18.210000\n",
              "Name: Prod_S3, dtype: float64"
            ]
          },
          "metadata": {
            "tags": []
          },
          "execution_count": 115
        }
      ]
    },
    {
      "cell_type": "markdown",
      "metadata": {
        "id": "8VWME_FjiikW"
      },
      "source": [
        "###Dashboard"
      ]
    },
    {
      "cell_type": "code",
      "metadata": {
        "colab": {
          "base_uri": "https://localhost:8080/",
          "height": 204
        },
        "id": "W4p5GltHinqX",
        "outputId": "e05f6318-ec72-43e6-d48d-a55c36ff9c6c"
      },
      "source": [
        "df=pd.read_csv('https://raw.githubusercontent.com/InstitutodaVinci3/Vancouver/master/Prod_Diaria_Unificado.csv')\r\n",
        "df.head()"
      ],
      "execution_count": 116,
      "outputs": [
        {
          "output_type": "execute_result",
          "data": {
            "text/html": [
              "<div>\n",
              "<style scoped>\n",
              "    .dataframe tbody tr th:only-of-type {\n",
              "        vertical-align: middle;\n",
              "    }\n",
              "\n",
              "    .dataframe tbody tr th {\n",
              "        vertical-align: top;\n",
              "    }\n",
              "\n",
              "    .dataframe thead th {\n",
              "        text-align: right;\n",
              "    }\n",
              "</style>\n",
              "<table border=\"1\" class=\"dataframe\">\n",
              "  <thead>\n",
              "    <tr style=\"text-align: right;\">\n",
              "      <th></th>\n",
              "      <th>Unnamed: 0</th>\n",
              "      <th>Id_Animal</th>\n",
              "      <th>Hora_S1</th>\n",
              "      <th>Hora_S2</th>\n",
              "      <th>Hora_S3</th>\n",
              "      <th>Prod_S1</th>\n",
              "      <th>Prod_S2</th>\n",
              "      <th>Prod_S3</th>\n",
              "      <th>Data</th>\n",
              "    </tr>\n",
              "  </thead>\n",
              "  <tbody>\n",
              "    <tr>\n",
              "      <th>0</th>\n",
              "      <td>0</td>\n",
              "      <td>4426.0</td>\n",
              "      <td>NaN</td>\n",
              "      <td>NaN</td>\n",
              "      <td>NaN</td>\n",
              "      <td>NaN</td>\n",
              "      <td>NaN</td>\n",
              "      <td>NaN</td>\n",
              "      <td>03/09/2017</td>\n",
              "    </tr>\n",
              "    <tr>\n",
              "      <th>1</th>\n",
              "      <td>1</td>\n",
              "      <td>2646.0</td>\n",
              "      <td>NaN</td>\n",
              "      <td>NaN</td>\n",
              "      <td>NaN</td>\n",
              "      <td>NaN</td>\n",
              "      <td>NaN</td>\n",
              "      <td>NaN</td>\n",
              "      <td>03/09/2017</td>\n",
              "    </tr>\n",
              "    <tr>\n",
              "      <th>2</th>\n",
              "      <td>2</td>\n",
              "      <td>3652.0</td>\n",
              "      <td>2017-09-03 08:00:00</td>\n",
              "      <td>2017-09-03 15:30:00</td>\n",
              "      <td>NaN</td>\n",
              "      <td>12.58</td>\n",
              "      <td>5.96</td>\n",
              "      <td>NaN</td>\n",
              "      <td>03/09/2017</td>\n",
              "    </tr>\n",
              "    <tr>\n",
              "      <th>3</th>\n",
              "      <td>3</td>\n",
              "      <td>653.0</td>\n",
              "      <td>2017-09-03 08:00:00</td>\n",
              "      <td>2017-09-03 15:30:00</td>\n",
              "      <td>NaN</td>\n",
              "      <td>18.19</td>\n",
              "      <td>8.54</td>\n",
              "      <td>NaN</td>\n",
              "      <td>03/09/2017</td>\n",
              "    </tr>\n",
              "    <tr>\n",
              "      <th>4</th>\n",
              "      <td>4</td>\n",
              "      <td>2623.0</td>\n",
              "      <td>2017-09-03 08:00:00</td>\n",
              "      <td>2017-09-03 15:30:00</td>\n",
              "      <td>NaN</td>\n",
              "      <td>12.94</td>\n",
              "      <td>7.95</td>\n",
              "      <td>NaN</td>\n",
              "      <td>03/09/2017</td>\n",
              "    </tr>\n",
              "  </tbody>\n",
              "</table>\n",
              "</div>"
            ],
            "text/plain": [
              "   Unnamed: 0  Id_Animal              Hora_S1  ... Prod_S2 Prod_S3        Data\n",
              "0           0     4426.0                  NaN  ...     NaN     NaN  03/09/2017\n",
              "1           1     2646.0                  NaN  ...     NaN     NaN  03/09/2017\n",
              "2           2     3652.0  2017-09-03 08:00:00  ...    5.96     NaN  03/09/2017\n",
              "3           3      653.0  2017-09-03 08:00:00  ...    8.54     NaN  03/09/2017\n",
              "4           4     2623.0  2017-09-03 08:00:00  ...    7.95     NaN  03/09/2017\n",
              "\n",
              "[5 rows x 9 columns]"
            ]
          },
          "metadata": {
            "tags": []
          },
          "execution_count": 116
        }
      ]
    },
    {
      "cell_type": "code",
      "metadata": {
        "id": "Qoh45xXbC-Pk"
      },
      "source": [
        "# Producao_S1 = Prod_Dia_df.groupby('Id_Animal').Prod_S1.sum()\r\n",
        "# Producao_S1"
      ],
      "execution_count": null,
      "outputs": []
    },
    {
      "cell_type": "code",
      "metadata": {
        "id": "cjbkCgRJEzRN"
      },
      "source": [
        "# Exportando dados dos arquivos unificados para Excel\r\n",
        "# Producao_S1.to_excel('/content/drive/MyDrive/MedMep/Prod_Diaria/Producao-S1.xlsx')"
      ],
      "execution_count": null,
      "outputs": []
    }
  ]
}