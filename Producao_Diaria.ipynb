{
  "nbformat": 4,
  "nbformat_minor": 0,
  "metadata": {
    "colab": {
      "name": "Producao_Diaria.ipynb",
      "provenance": [],
      "collapsed_sections": [],
      "mount_file_id": "1hgVOhGJjR-MuaS_T0icduY8clUdv1DEc",
      "authorship_tag": "ABX9TyP9XSjNFkwWW3tQDla3k/iW",
      "include_colab_link": true
    },
    "kernelspec": {
      "name": "python3",
      "display_name": "Python 3"
    }
  },
  "cells": [
    {
      "cell_type": "markdown",
      "metadata": {
        "id": "view-in-github",
        "colab_type": "text"
      },
      "source": [
        "<a href=\"https://colab.research.google.com/github/InstitutodaVinci3/Vancouver/blob/master/Producao_Diaria.ipynb\" target=\"_parent\"><img src=\"https://colab.research.google.com/assets/colab-badge.svg\" alt=\"Open In Colab\"/></a>"
      ]
    },
    {
      "cell_type": "code",
      "metadata": {
        "id": "Q5cLN3zSY41N"
      },
      "source": [
        "# importando as bibliotecas básicas e preparando ambiente\n",
        "import pandas as pd                     # convenção \n",
        "import numpy as np                      # convenção \n",
        "import random as rd                     # rd não é alias padrão mas sim adotado aqui somente \n",
        "# Itens adicionais\n",
        "import glob\n",
        "import os\n",
        "import re"
      ],
      "execution_count": null,
      "outputs": []
    },
    {
      "cell_type": "code",
      "metadata": {
        "id": "FWGiw1IAZQxn"
      },
      "source": [
        "# ***** Lembrar que é necessário \"MONTAR\" o seu Google Dive junto ao Jupiter Collab como pré-requisito ****\n",
        "path =r'/content/drive/MyDrive/Colab Notebooks/MedMep DataSet/Prod Diaria txt'\n",
        "filenames = glob.glob(path + \"/*.txt\")"
      ],
      "execution_count": null,
      "outputs": []
    },
    {
      "cell_type": "code",
      "metadata": {
        "id": "L_cCwqJ4Yxf6"
      },
      "source": [
        "# junção dos arquivos de Produção Diária - arquivos TXT\n",
        "dfs =[]\n",
        "for filename in filenames:\n",
        "  a = pd.read_csv(filename, sep='\\t', encoding='latin1', engine='python', index_col=0)\n",
        "  dfs.append(a[:-1])\n",
        "\n",
        "# Concatenando todos os dados em um único DataFrame\n",
        "Producao_df = pd.concat(dfs, ignore_index=True)\n",
        "Producao_df\n",
        "Producao_df.to_excel(\"Producao_Diaria.xlsx\")"
      ],
      "execution_count": null,
      "outputs": []
    }
  ]
}