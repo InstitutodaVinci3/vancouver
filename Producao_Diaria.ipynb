{
  "nbformat": 4,
  "nbformat_minor": 0,
  "metadata": {
    "colab": {
      "name": "Producao_Diaria.ipynb",
      "provenance": [],
      "collapsed_sections": [
        "VAeivs-Yr2sg"
      ],
      "toc_visible": true,
      "mount_file_id": "1hgVOhGJjR-MuaS_T0icduY8clUdv1DEc",
      "authorship_tag": "ABX9TyP/mJ7bn1dDxXcD/IJvUg0c",
      "include_colab_link": true
    },
    "kernelspec": {
      "name": "python3",
      "display_name": "Python 3"
    }
  },
  "cells": [
    {
      "cell_type": "markdown",
      "metadata": {
        "id": "view-in-github",
        "colab_type": "text"
      },
      "source": [
        "<a href=\"https://colab.research.google.com/github/InstitutodaVinci3/Vancouver/blob/master/Producao_Diaria.ipynb\" target=\"_parent\"><img src=\"https://colab.research.google.com/assets/colab-badge.svg\" alt=\"Open In Colab\"/></a>"
      ]
    },
    {
      "cell_type": "code",
      "metadata": {
        "id": "Q5cLN3zSY41N"
      },
      "source": [
        "# importando as bibliotecas básicas e preparando ambiente\n",
        "import pandas as pd                     # convenção \n",
        "import numpy as np                      # convenção \n",
        "import random as rd                     # rd não é alias padrão mas sim adotado aqui somente \n",
        "# Itens adicionais\n",
        "import glob\n",
        "import os\n",
        "import re"
      ],
      "execution_count": 2,
      "outputs": []
    },
    {
      "cell_type": "markdown",
      "metadata": {
        "id": "VAeivs-Yr2sg"
      },
      "source": [
        "# Teste 1 - com os TXT"
      ]
    },
    {
      "cell_type": "code",
      "metadata": {
        "id": "FWGiw1IAZQxn"
      },
      "source": [
        "# ***** Lembrar que é necessário \"MONTAR\" o seu Google Dive junto ao Jupiter Collab como pré-requisito ****\n",
        "path =r'/content/drive/MyDrive/Colab Notebooks/MedMep DataSet/Prod Diaria txt'\n",
        "filenames = glob.glob(path + \"/*.txt\")"
      ],
      "execution_count": null,
      "outputs": []
    },
    {
      "cell_type": "code",
      "metadata": {
        "id": "L_cCwqJ4Yxf6"
      },
      "source": [
        "# junção dos arquivos de Produção Diária - arquivos TXT\n",
        "dfs =[]\n",
        "for filename in filenames:\n",
        "  a = pd.read_table(filename, sep='\\t', encoding='latin1', engine='python', index_col=0)\n",
        "  dfs.append(a[:-1])\n",
        "\n",
        "# Concatenando todos os dados em um único DataFrame\n",
        "Producao_df = pd.concat(dfs, ignore_index=True)\n",
        "Producao_df\n",
        "Producao_df.to_excel(\"Producao_Diaria.xlsx\")"
      ],
      "execution_count": null,
      "outputs": []
    },
    {
      "cell_type": "markdown",
      "metadata": {
        "id": "sC7Nh4Bjr61A"
      },
      "source": [
        "# Teste 2 - com os XLSX"
      ]
    },
    {
      "cell_type": "code",
      "metadata": {
        "id": "EuzChdCwr-ux"
      },
      "source": [
        "# Testando com os arquivos XLSX\r\n",
        "path =r'/content/drive/MyDrive/Prod Diaria XLS'\r\n",
        "filenames = glob.glob(path + \"/*.xlsx\")"
      ],
      "execution_count": 12,
      "outputs": []
    },
    {
      "cell_type": "code",
      "metadata": {
        "colab": {
          "base_uri": "https://localhost:8080/",
          "height": 309
        },
        "id": "43usUrpcBcLk",
        "outputId": "6dbb80d5-586b-428b-e982-49cd1593b2c2"
      },
      "source": [
        "a = pd.read_excel('/content/drive/MyDrive/Prod Diaria XLS/Produção diária_20170503T172000.xlsx', sheet_name=0,header=0)\r\n",
        "a.head()"
      ],
      "execution_count": 4,
      "outputs": [
        {
          "output_type": "execute_result",
          "data": {
            "text/html": [
              "<div>\n",
              "<style scoped>\n",
              "    .dataframe tbody tr th:only-of-type {\n",
              "        vertical-align: middle;\n",
              "    }\n",
              "\n",
              "    .dataframe tbody tr th {\n",
              "        vertical-align: top;\n",
              "    }\n",
              "\n",
              "    .dataframe thead th {\n",
              "        text-align: right;\n",
              "    }\n",
              "</style>\n",
              "<table border=\"1\" class=\"dataframe\">\n",
              "  <thead>\n",
              "    <tr style=\"text-align: right;\">\n",
              "      <th></th>\n",
              "      <th>Group Number</th>\n",
              "      <th>Animal Number</th>\n",
              "      <th>Lactation Number</th>\n",
              "      <th>Days In Milk</th>\n",
              "      <th>Peak Yield</th>\n",
              "      <th>Milk Time Today For Session 1</th>\n",
              "      <th>Duration Today Session 1 (mm:ss)</th>\n",
              "      <th>Yield Today Session 1</th>\n",
              "      <th>Milk Time Today For Session 2</th>\n",
              "      <th>Duration Today Session 2 (mm:ss)</th>\n",
              "      <th>Yield Today Session 2</th>\n",
              "      <th>Start Time Session 1 Yesterday</th>\n",
              "      <th>Duration Yesterday Session 1 (mm:ss)</th>\n",
              "      <th>Yield Yesterday Session 1</th>\n",
              "      <th>Start Time Session 2 Yesterday</th>\n",
              "      <th>Duration Yesterday Session 2 (mm:ss)</th>\n",
              "      <th>Yield Yesterday Session 2</th>\n",
              "    </tr>\n",
              "  </thead>\n",
              "  <tbody>\n",
              "    <tr>\n",
              "      <th>0</th>\n",
              "      <td>NaN</td>\n",
              "      <td>2646</td>\n",
              "      <td>1</td>\n",
              "      <td>370</td>\n",
              "      <td>11.24</td>\n",
              "      <td>NaN</td>\n",
              "      <td>NaN</td>\n",
              "      <td>NaN</td>\n",
              "      <td>NaN</td>\n",
              "      <td>NaN</td>\n",
              "      <td>NaN</td>\n",
              "      <td>NaN</td>\n",
              "      <td>NaN</td>\n",
              "      <td>NaN</td>\n",
              "      <td>NaN</td>\n",
              "      <td>NaN</td>\n",
              "      <td>NaN</td>\n",
              "    </tr>\n",
              "    <tr>\n",
              "      <th>1</th>\n",
              "      <td>1.0</td>\n",
              "      <td>5409</td>\n",
              "      <td>0</td>\n",
              "      <td>0</td>\n",
              "      <td>NaN</td>\n",
              "      <td>NaN</td>\n",
              "      <td>NaN</td>\n",
              "      <td>NaN</td>\n",
              "      <td>NaN</td>\n",
              "      <td>NaN</td>\n",
              "      <td>NaN</td>\n",
              "      <td>NaN</td>\n",
              "      <td>NaN</td>\n",
              "      <td>NaN</td>\n",
              "      <td>NaN</td>\n",
              "      <td>NaN</td>\n",
              "      <td>NaN</td>\n",
              "    </tr>\n",
              "    <tr>\n",
              "      <th>2</th>\n",
              "      <td>1.0</td>\n",
              "      <td>5402</td>\n",
              "      <td>0</td>\n",
              "      <td>0</td>\n",
              "      <td>NaN</td>\n",
              "      <td>NaN</td>\n",
              "      <td>NaN</td>\n",
              "      <td>NaN</td>\n",
              "      <td>NaN</td>\n",
              "      <td>NaN</td>\n",
              "      <td>NaN</td>\n",
              "      <td>NaN</td>\n",
              "      <td>NaN</td>\n",
              "      <td>NaN</td>\n",
              "      <td>NaN</td>\n",
              "      <td>NaN</td>\n",
              "      <td>NaN</td>\n",
              "    </tr>\n",
              "    <tr>\n",
              "      <th>3</th>\n",
              "      <td>1.0</td>\n",
              "      <td>5403</td>\n",
              "      <td>0</td>\n",
              "      <td>0</td>\n",
              "      <td>NaN</td>\n",
              "      <td>NaN</td>\n",
              "      <td>NaN</td>\n",
              "      <td>NaN</td>\n",
              "      <td>NaN</td>\n",
              "      <td>NaN</td>\n",
              "      <td>NaN</td>\n",
              "      <td>NaN</td>\n",
              "      <td>NaN</td>\n",
              "      <td>NaN</td>\n",
              "      <td>NaN</td>\n",
              "      <td>NaN</td>\n",
              "      <td>NaN</td>\n",
              "    </tr>\n",
              "    <tr>\n",
              "      <th>4</th>\n",
              "      <td>1.0</td>\n",
              "      <td>5407</td>\n",
              "      <td>0</td>\n",
              "      <td>0</td>\n",
              "      <td>NaN</td>\n",
              "      <td>NaN</td>\n",
              "      <td>NaN</td>\n",
              "      <td>NaN</td>\n",
              "      <td>NaN</td>\n",
              "      <td>NaN</td>\n",
              "      <td>NaN</td>\n",
              "      <td>NaN</td>\n",
              "      <td>NaN</td>\n",
              "      <td>NaN</td>\n",
              "      <td>NaN</td>\n",
              "      <td>NaN</td>\n",
              "      <td>NaN</td>\n",
              "    </tr>\n",
              "  </tbody>\n",
              "</table>\n",
              "</div>"
            ],
            "text/plain": [
              "   Group Number  ...  Yield Yesterday Session 2\n",
              "0           NaN  ...                        NaN\n",
              "1           1.0  ...                        NaN\n",
              "2           1.0  ...                        NaN\n",
              "3           1.0  ...                        NaN\n",
              "4           1.0  ...                        NaN\n",
              "\n",
              "[5 rows x 17 columns]"
            ]
          },
          "metadata": {
            "tags": []
          },
          "execution_count": 4
        }
      ]
    },
    {
      "cell_type": "code",
      "metadata": {
        "colab": {
          "base_uri": "https://localhost:8080/"
        },
        "id": "fBZVr_qNDPtx",
        "outputId": "a7cf378e-9146-4407-ad6f-ccfcd45f0adf"
      },
      "source": [
        "# Para extrair da Data do nome do arquivo\r\n",
        "dia = re.search(r'_(\\d+)', '/content/drive/MyDrive/Prod Diaria XLS/Produção diária_20170503T172000.xlsx')\r\n",
        "print(dia[1])"
      ],
      "execution_count": 5,
      "outputs": [
        {
          "output_type": "stream",
          "text": [
            "20170503\n"
          ],
          "name": "stdout"
        }
      ]
    },
    {
      "cell_type": "code",
      "metadata": {
        "id": "IDYbdz0bsdTO"
      },
      "source": [
        "# junção dos arquivos de Produção Diária - arquivos XLSX\r\n",
        "dfs = []\r\n",
        "for filename in filenames:\r\n",
        "#  dia = re.search(r'_(\\d+)', filename)\r\n",
        "  a = pd.read_excel(filename, sheet_name=0, header=0)\r\n",
        "#  a.head()\r\n",
        "  dfs.append(a)\r\n",
        "Producao_df = pd.concat(dfs) # Concatenando todos os dados em um único DataFrame\r\n",
        "Producao_df.to_excel(\"/content/drive/MyDrive/Prod Diaria XLS/Producao_Diaria.xlsx\")\r\n",
        "\r\n",
        "#Producao_df = pd.concat(dfs, ignore_index=True)\r\n",
        "#  dfs\r\n",
        "#  dfs.append(a[:-1])\r\n",
        "#Producao_df.to_excel(\"Producao_Diaria.xlsx\")"
      ],
      "execution_count": 16,
      "outputs": []
    },
    {
      "cell_type": "code",
      "metadata": {
        "id": "3uj69zpjtqFT"
      },
      "source": [
        ""
      ],
      "execution_count": null,
      "outputs": []
    }
  ]
}