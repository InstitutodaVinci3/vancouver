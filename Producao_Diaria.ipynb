{
  "nbformat": 4,
  "nbformat_minor": 0,
  "metadata": {
    "colab": {
      "name": "Producao_Diaria.ipynb",
      "provenance": [],
      "collapsed_sections": [
        "5b0jFO22sV5E"
      ],
      "toc_visible": true,
      "include_colab_link": true
    },
    "kernelspec": {
      "name": "python3",
      "display_name": "Python 3"
    }
  },
  "cells": [
    {
      "cell_type": "markdown",
      "metadata": {
        "id": "view-in-github",
        "colab_type": "text"
      },
      "source": [
        "<a href=\"https://colab.research.google.com/github/InstitutodaVinci3/Vancouver/blob/master/Producao_Diaria.ipynb\" target=\"_parent\"><img src=\"https://colab.research.google.com/assets/colab-badge.svg\" alt=\"Open In Colab\"/></a>"
      ]
    },
    {
      "cell_type": "markdown",
      "metadata": {
        "id": "5b0jFO22sV5E"
      },
      "source": [
        "#Resumo dos Trabalhos de Coleta, Limpeza e Entendimento dos dados"
      ]
    },
    {
      "cell_type": "markdown",
      "metadata": {
        "id": "-DasBz-Lu8Fo"
      },
      "source": [
        "##Biblotecas Utilizadas"
      ]
    },
    {
      "cell_type": "code",
      "metadata": {
        "id": "Oj00MhVZfHpz"
      },
      "source": [
        "# importando as bibliotecas básicas e preparando ambiente\r\n",
        "import pandas as pd                     # convenção \r\n",
        "import numpy as np                      # convenção \r\n",
        "import random as rd                     # rd não é alias padrão mas sim adotado aqui somente \r\n",
        "# Itens adicionais\r\n",
        "import glob\r\n",
        "import os\r\n",
        "import re"
      ],
      "execution_count": 21,
      "outputs": []
    },
    {
      "cell_type": "markdown",
      "metadata": {
        "id": "75O-RlH4r89u"
      },
      "source": [
        "##Coleta e Limpeza dos Dados"
      ]
    },
    {
      "cell_type": "markdown",
      "metadata": {
        "id": "qXNAaTZLzzpi"
      },
      "source": [
        "###Passo 1 - montagem do drive para colocação dos arquivos recebidos"
      ]
    },
    {
      "cell_type": "code",
      "metadata": {
        "colab": {
          "base_uri": "https://localhost:8080/"
        },
        "id": "Ki_DsjtLKpCs",
        "outputId": "81ede6f8-b4c4-4f4e-e049-7f47d6897dab"
      },
      "source": [
        "# montagem do Google Drive para acessar os arquivos que foram disponibilizados\n",
        "from google.colab import drive\n",
        "drive.mount('/content/drive')"
      ],
      "execution_count": 22,
      "outputs": [
        {
          "output_type": "stream",
          "text": [
            "Drive already mounted at /content/drive; to attempt to forcibly remount, call drive.mount(\"/content/drive\", force_remount=True).\n"
          ],
          "name": "stdout"
        }
      ]
    },
    {
      "cell_type": "markdown",
      "metadata": {
        "id": "BLE_xgrZuN32"
      },
      "source": [
        "###Passo 2 - definição da varíavel \"Filenames\" para ser utilizado no \"for\" de leitura, de forma a correr todoos os arquivos do tipo TXT existentes no caminho (path)"
      ]
    },
    {
      "cell_type": "code",
      "metadata": {
        "id": "IA9eXtg4fPtX",
        "colab": {
          "base_uri": "https://localhost:8080/"
        },
        "outputId": "594e4b2d-79c2-466e-dabf-726406605384"
      },
      "source": [
        "# Defifinindo a varíavel FIlenames para ser utilizado no \"for\" de leitura\r\n",
        "path =r'/content/drive/MyDrive/MedMep/Prod_Diaria/'\r\n",
        "filenames = glob.glob(path + \"/*.txt\")\r\n",
        "filenames"
      ],
      "execution_count": 23,
      "outputs": [
        {
          "output_type": "execute_result",
          "data": {
            "text/plain": [
              "['/content/drive/MyDrive/MedMep/Prod_Diaria/Produção diária TXT_20170508T173500.txt',\n",
              " '/content/drive/MyDrive/MedMep/Prod_Diaria/Produção diária TXT_20170505T173500.txt',\n",
              " '/content/drive/MyDrive/MedMep/Prod_Diaria/Produção diária TXT_20170503T173500.txt',\n",
              " '/content/drive/MyDrive/MedMep/Prod_Diaria/Produção diária TXT_20170702T173500.txt',\n",
              " '/content/drive/MyDrive/MedMep/Prod_Diaria/Produção diária TXT_20170704T173501.txt',\n",
              " '/content/drive/MyDrive/MedMep/Prod_Diaria/Produção diária TXT_20170707T173501.txt',\n",
              " '/content/drive/MyDrive/MedMep/Prod_Diaria/Produção diária TXT_20170709T173500.txt',\n",
              " '/content/drive/MyDrive/MedMep/Prod_Diaria/Produção diária TXT_20170708T173500.txt',\n",
              " '/content/drive/MyDrive/MedMep/Prod_Diaria/Produção diária TXT_20170706T173500.txt',\n",
              " '/content/drive/MyDrive/MedMep/Prod_Diaria/Produção diária TXT_20170701T173500.txt',\n",
              " '/content/drive/MyDrive/MedMep/Prod_Diaria/Produção diária TXT_20170627T173501.txt',\n",
              " '/content/drive/MyDrive/MedMep/Prod_Diaria/Produção diária TXT_20170628T173501.txt',\n",
              " '/content/drive/MyDrive/MedMep/Prod_Diaria/Produção diária TXT_20170630T173500.txt',\n",
              " '/content/drive/MyDrive/MedMep/Prod_Diaria/Produção diária TXT_20170629T173500.txt',\n",
              " '/content/drive/MyDrive/MedMep/Prod_Diaria/Produção diária TXT_20170625T173501.txt',\n",
              " '/content/drive/MyDrive/MedMep/Prod_Diaria/Produção diária TXT_20170623T173501.txt',\n",
              " '/content/drive/MyDrive/MedMep/Prod_Diaria/Produção diária TXT_20170624T173501.txt',\n",
              " '/content/drive/MyDrive/MedMep/Prod_Diaria/Produção diária TXT_20170622T173501.txt',\n",
              " '/content/drive/MyDrive/MedMep/Prod_Diaria/Produção diária TXT_20170626T173501.txt',\n",
              " '/content/drive/MyDrive/MedMep/Prod_Diaria/Produção diária TXT_20170616T173500.txt',\n",
              " '/content/drive/MyDrive/MedMep/Prod_Diaria/Produção diária TXT_20170615T173501.txt',\n",
              " '/content/drive/MyDrive/MedMep/Prod_Diaria/Produção diária TXT_20170621T173501.txt',\n",
              " '/content/drive/MyDrive/MedMep/Prod_Diaria/Produção diária TXT_20170620T173501.txt',\n",
              " '/content/drive/MyDrive/MedMep/Prod_Diaria/Produção diária TXT_20170619T173501.txt',\n",
              " '/content/drive/MyDrive/MedMep/Prod_Diaria/Produção diária TXT_20170613T173500.txt',\n",
              " '/content/drive/MyDrive/MedMep/Prod_Diaria/Produção diária TXT_20170617T173500.txt',\n",
              " '/content/drive/MyDrive/MedMep/Prod_Diaria/Produção diária TXT_20170614T173500.txt',\n",
              " '/content/drive/MyDrive/MedMep/Prod_Diaria/Produção diária TXT_20170618T173500.txt',\n",
              " '/content/drive/MyDrive/MedMep/Prod_Diaria/Produção diária TXT_20170609T173500.txt',\n",
              " '/content/drive/MyDrive/MedMep/Prod_Diaria/Produção diária TXT_20170611T173501.txt',\n",
              " '/content/drive/MyDrive/MedMep/Prod_Diaria/Produção diária TXT_20170612T173501.txt',\n",
              " '/content/drive/MyDrive/MedMep/Prod_Diaria/Produção diária TXT_20170603T173501.txt',\n",
              " '/content/drive/MyDrive/MedMep/Prod_Diaria/Produção diária TXT_20170602T173500.txt',\n",
              " '/content/drive/MyDrive/MedMep/Prod_Diaria/Produção diária TXT_20170610T173501.txt',\n",
              " '/content/drive/MyDrive/MedMep/Prod_Diaria/Produção diária TXT_20170606T173501.txt',\n",
              " '/content/drive/MyDrive/MedMep/Prod_Diaria/Produção diária TXT_20170607T173501.txt',\n",
              " '/content/drive/MyDrive/MedMep/Prod_Diaria/Produção diária TXT_20170608T173500.txt',\n",
              " '/content/drive/MyDrive/MedMep/Prod_Diaria/Produção diária TXT_20170604T173500.txt',\n",
              " '/content/drive/MyDrive/MedMep/Prod_Diaria/Produção diária TXT_20170605T173500.txt',\n",
              " '/content/drive/MyDrive/MedMep/Prod_Diaria/Produção diária TXT_20170601T173501.txt',\n",
              " '/content/drive/MyDrive/MedMep/Prod_Diaria/Produção diária TXT_20170529T173501.txt',\n",
              " '/content/drive/MyDrive/MedMep/Prod_Diaria/Produção diária TXT_20170530T173500.txt',\n",
              " '/content/drive/MyDrive/MedMep/Prod_Diaria/Produção diária TXT_20170528T173500.txt',\n",
              " '/content/drive/MyDrive/MedMep/Prod_Diaria/Produção diária TXT_20170531T173500.txt',\n",
              " '/content/drive/MyDrive/MedMep/Prod_Diaria/Produção diária TXT_20170524T173500.txt',\n",
              " '/content/drive/MyDrive/MedMep/Prod_Diaria/Produção diária TXT_20170519T173500.txt',\n",
              " '/content/drive/MyDrive/MedMep/Prod_Diaria/Produção diária TXT_20170517T173500.txt',\n",
              " '/content/drive/MyDrive/MedMep/Prod_Diaria/Produção diária TXT_20170525T173500.txt',\n",
              " '/content/drive/MyDrive/MedMep/Prod_Diaria/Produção diária TXT_20170522T173500.txt',\n",
              " '/content/drive/MyDrive/MedMep/Prod_Diaria/Produção diária TXT_20170521T173501.txt',\n",
              " '/content/drive/MyDrive/MedMep/Prod_Diaria/Produção diária TXT_20170527T173500.txt',\n",
              " '/content/drive/MyDrive/MedMep/Prod_Diaria/Produção diária TXT_20170526T173501.txt',\n",
              " '/content/drive/MyDrive/MedMep/Prod_Diaria/Produção diária TXT_20170516T173500.txt',\n",
              " '/content/drive/MyDrive/MedMep/Prod_Diaria/Produção diária TXT_20170518T173500.txt',\n",
              " '/content/drive/MyDrive/MedMep/Prod_Diaria/Produção diária TXT_20170523T173500.txt',\n",
              " '/content/drive/MyDrive/MedMep/Prod_Diaria/Produção diária TXT_20170514T173500.txt',\n",
              " '/content/drive/MyDrive/MedMep/Prod_Diaria/Produção diária TXT_20170515T173500.txt',\n",
              " '/content/drive/MyDrive/MedMep/Prod_Diaria/Produção diária TXT_20170520T173500.txt',\n",
              " '/content/drive/MyDrive/MedMep/Prod_Diaria/Produção diária TXT_20170513T173500.txt',\n",
              " '/content/drive/MyDrive/MedMep/Prod_Diaria/Produção diária TXT_20170512T173501.txt',\n",
              " '/content/drive/MyDrive/MedMep/Prod_Diaria/Produção diária TXT_20170510T173500.txt',\n",
              " '/content/drive/MyDrive/MedMep/Prod_Diaria/Produção diária TXT_20170506T173500.txt',\n",
              " '/content/drive/MyDrive/MedMep/Prod_Diaria/Produção diária TXT_20170507T173500.txt',\n",
              " '/content/drive/MyDrive/MedMep/Prod_Diaria/Produção diária TXT_20170509T173500.txt',\n",
              " '/content/drive/MyDrive/MedMep/Prod_Diaria/Produção diária TXT_20170504T173501.txt',\n",
              " '/content/drive/MyDrive/MedMep/Prod_Diaria/Produção diária TXT_20170511T173501.txt',\n",
              " '/content/drive/MyDrive/MedMep/Prod_Diaria/Produção diária TXT_20170926T173501.txt',\n",
              " '/content/drive/MyDrive/MedMep/Prod_Diaria/Produção diária TXT_20170923T173500.txt',\n",
              " '/content/drive/MyDrive/MedMep/Prod_Diaria/Produção diária TXT_20170921T173501.txt',\n",
              " '/content/drive/MyDrive/MedMep/Prod_Diaria/Produção diária TXT_20170919T173500.txt',\n",
              " '/content/drive/MyDrive/MedMep/Prod_Diaria/Produção diária TXT_20170918T173501.txt',\n",
              " '/content/drive/MyDrive/MedMep/Prod_Diaria/Produção diária TXT_20170917T173500.txt',\n",
              " '/content/drive/MyDrive/MedMep/Prod_Diaria/Produção diária TXT_20170915T173500.txt',\n",
              " '/content/drive/MyDrive/MedMep/Prod_Diaria/Produção diária TXT_20170920T173500.txt',\n",
              " '/content/drive/MyDrive/MedMep/Prod_Diaria/Produção diária TXT_20170916T173501.txt',\n",
              " '/content/drive/MyDrive/MedMep/Prod_Diaria/Produção diária TXT_20170913T173500.txt',\n",
              " '/content/drive/MyDrive/MedMep/Prod_Diaria/Produção diária TXT_20170912T173501.txt',\n",
              " '/content/drive/MyDrive/MedMep/Prod_Diaria/Produção diária TXT_20170910T173500.txt',\n",
              " '/content/drive/MyDrive/MedMep/Prod_Diaria/Produção diária TXT_20170906T173501.txt',\n",
              " '/content/drive/MyDrive/MedMep/Prod_Diaria/Produção diária TXT_20170908T173500.txt',\n",
              " '/content/drive/MyDrive/MedMep/Prod_Diaria/Produção diária TXT_20170914T173500.txt',\n",
              " '/content/drive/MyDrive/MedMep/Prod_Diaria/Produção diária TXT_20170911T173500.txt',\n",
              " '/content/drive/MyDrive/MedMep/Prod_Diaria/Produção diária TXT_20170909T173501.txt',\n",
              " '/content/drive/MyDrive/MedMep/Prod_Diaria/Produção diária TXT_20170907T173500.txt',\n",
              " '/content/drive/MyDrive/MedMep/Prod_Diaria/Produção diária TXT_20170831T173501.txt',\n",
              " '/content/drive/MyDrive/MedMep/Prod_Diaria/Produção diária TXT_20170905T173500.txt',\n",
              " '/content/drive/MyDrive/MedMep/Prod_Diaria/Produção diária TXT_20170902T173500.txt',\n",
              " '/content/drive/MyDrive/MedMep/Prod_Diaria/Produção diária TXT_20170903T173501.txt',\n",
              " '/content/drive/MyDrive/MedMep/Prod_Diaria/Produção diária TXT_20170904T173500.txt',\n",
              " '/content/drive/MyDrive/MedMep/Prod_Diaria/Produção diária TXT_20170830T173500.txt',\n",
              " '/content/drive/MyDrive/MedMep/Prod_Diaria/Produção diária TXT_20170901T173500.txt',\n",
              " '/content/drive/MyDrive/MedMep/Prod_Diaria/Produção diária TXT_20170829T173500.txt',\n",
              " '/content/drive/MyDrive/MedMep/Prod_Diaria/Produção diária TXT_20170827T173501.txt',\n",
              " '/content/drive/MyDrive/MedMep/Prod_Diaria/Produção diária TXT_20170828T173501.txt',\n",
              " '/content/drive/MyDrive/MedMep/Prod_Diaria/Produção diária TXT_20170826T173500.txt',\n",
              " '/content/drive/MyDrive/MedMep/Prod_Diaria/Produção diária TXT_20170824T173501.txt',\n",
              " '/content/drive/MyDrive/MedMep/Prod_Diaria/Produção diária TXT_20170825T173500.txt',\n",
              " '/content/drive/MyDrive/MedMep/Prod_Diaria/Produção diária TXT_20170823T173501.txt',\n",
              " '/content/drive/MyDrive/MedMep/Prod_Diaria/Produção diária TXT_20170821T173500.txt',\n",
              " '/content/drive/MyDrive/MedMep/Prod_Diaria/Produção diária TXT_20170814T173501.txt',\n",
              " '/content/drive/MyDrive/MedMep/Prod_Diaria/Produção diária TXT_20170812T173500.txt',\n",
              " '/content/drive/MyDrive/MedMep/Prod_Diaria/Produção diária TXT_20170822T173501.txt',\n",
              " '/content/drive/MyDrive/MedMep/Prod_Diaria/Produção diária TXT_20170820T173500.txt',\n",
              " '/content/drive/MyDrive/MedMep/Prod_Diaria/Produção diária TXT_20170819T173501.txt',\n",
              " '/content/drive/MyDrive/MedMep/Prod_Diaria/Produção diária TXT_20170816T173500.txt',\n",
              " '/content/drive/MyDrive/MedMep/Prod_Diaria/Produção diária TXT_20170815T173501.txt',\n",
              " '/content/drive/MyDrive/MedMep/Prod_Diaria/Produção diária TXT_20170818T173500.txt',\n",
              " '/content/drive/MyDrive/MedMep/Prod_Diaria/Produção diária TXT_20170817T173500.txt',\n",
              " '/content/drive/MyDrive/MedMep/Prod_Diaria/Produção diária TXT_20170813T173500.txt',\n",
              " '/content/drive/MyDrive/MedMep/Prod_Diaria/Produção diária TXT_20170810T173501.txt',\n",
              " '/content/drive/MyDrive/MedMep/Prod_Diaria/Produção diária TXT_20170811T173501.txt',\n",
              " '/content/drive/MyDrive/MedMep/Prod_Diaria/Produção diária TXT_20170809T173500.txt',\n",
              " '/content/drive/MyDrive/MedMep/Prod_Diaria/Produção diária TXT_20170807T173500.txt',\n",
              " '/content/drive/MyDrive/MedMep/Prod_Diaria/Produção diária TXT_20170805T173500.txt',\n",
              " '/content/drive/MyDrive/MedMep/Prod_Diaria/Produção diária TXT_20170806T173500.txt',\n",
              " '/content/drive/MyDrive/MedMep/Prod_Diaria/Produção diária TXT_20170808T173500.txt',\n",
              " '/content/drive/MyDrive/MedMep/Prod_Diaria/Produção diária TXT_20170801T173500.txt',\n",
              " '/content/drive/MyDrive/MedMep/Prod_Diaria/Produção diária TXT_20170803T173500.txt',\n",
              " '/content/drive/MyDrive/MedMep/Prod_Diaria/Produção diária TXT_20170804T173500.txt',\n",
              " '/content/drive/MyDrive/MedMep/Prod_Diaria/Produção diária TXT_20170730T173501.txt',\n",
              " '/content/drive/MyDrive/MedMep/Prod_Diaria/Produção diária TXT_20170802T173500.txt',\n",
              " '/content/drive/MyDrive/MedMep/Prod_Diaria/Produção diária TXT_20170731T173500.txt',\n",
              " '/content/drive/MyDrive/MedMep/Prod_Diaria/Produção diária TXT_20170726T173501.txt',\n",
              " '/content/drive/MyDrive/MedMep/Prod_Diaria/Produção diária TXT_20170729T173501.txt',\n",
              " '/content/drive/MyDrive/MedMep/Prod_Diaria/Produção diária TXT_20170727T173501.txt',\n",
              " '/content/drive/MyDrive/MedMep/Prod_Diaria/Produção diária TXT_20170728T173501.txt',\n",
              " '/content/drive/MyDrive/MedMep/Prod_Diaria/Produção diária TXT_20170725T173501.txt',\n",
              " '/content/drive/MyDrive/MedMep/Prod_Diaria/Produção diária TXT_20170722T173500.txt',\n",
              " '/content/drive/MyDrive/MedMep/Prod_Diaria/Produção diária TXT_20170723T173507.txt',\n",
              " '/content/drive/MyDrive/MedMep/Prod_Diaria/Produção diária TXT_20170721T173500.txt',\n",
              " '/content/drive/MyDrive/MedMep/Prod_Diaria/Produção diária TXT_20170724T173500.txt',\n",
              " '/content/drive/MyDrive/MedMep/Prod_Diaria/Produção diária TXT_20170718T173501.txt',\n",
              " '/content/drive/MyDrive/MedMep/Prod_Diaria/Produção diária TXT_20170715T173500.txt',\n",
              " '/content/drive/MyDrive/MedMep/Prod_Diaria/Produção diária TXT_20170719T173500.txt',\n",
              " '/content/drive/MyDrive/MedMep/Prod_Diaria/Produção diária TXT_20170711T173501.txt',\n",
              " '/content/drive/MyDrive/MedMep/Prod_Diaria/Produção diária TXT_20170710T173500.txt',\n",
              " '/content/drive/MyDrive/MedMep/Prod_Diaria/Produção diária TXT_20170720T173500.txt',\n",
              " '/content/drive/MyDrive/MedMep/Prod_Diaria/Produção diária TXT_20170717T173500.txt',\n",
              " '/content/drive/MyDrive/MedMep/Prod_Diaria/Produção diária TXT_20170713T173500.txt',\n",
              " '/content/drive/MyDrive/MedMep/Prod_Diaria/Produção diária TXT_20170714T173500.txt',\n",
              " '/content/drive/MyDrive/MedMep/Prod_Diaria/Produção diária TXT_20170712T173501.txt',\n",
              " '/content/drive/MyDrive/MedMep/Prod_Diaria/Produção diária TXT_20170716T173500.txt',\n",
              " '/content/drive/MyDrive/MedMep/Prod_Diaria/Produção diária TXT_20170705T173501.txt',\n",
              " '/content/drive/MyDrive/MedMep/Prod_Diaria/Produção diária TXT_20170703T173501.txt',\n",
              " '/content/drive/MyDrive/MedMep/Prod_Diaria/Produção diária TXT_20171017T173501.txt',\n",
              " '/content/drive/MyDrive/MedMep/Prod_Diaria/Produção diária TXT_20171016T173500.txt',\n",
              " '/content/drive/MyDrive/MedMep/Prod_Diaria/Produção diária TXT_20171014T173501.txt',\n",
              " '/content/drive/MyDrive/MedMep/Prod_Diaria/Produção diária TXT_20171025T173500.txt',\n",
              " '/content/drive/MyDrive/MedMep/Prod_Diaria/Produção diária TXT_20171022T173501.txt',\n",
              " '/content/drive/MyDrive/MedMep/Prod_Diaria/Produção diária TXT_20171023T173500.txt',\n",
              " '/content/drive/MyDrive/MedMep/Prod_Diaria/Produção diária TXT_20171026T173500.txt',\n",
              " '/content/drive/MyDrive/MedMep/Prod_Diaria/Produção diária TXT_20171006T173501.txt',\n",
              " '/content/drive/MyDrive/MedMep/Prod_Diaria/Produção diária TXT_20171008T173501.txt',\n",
              " '/content/drive/MyDrive/MedMep/Prod_Diaria/Produção diária TXT_20171004T173501.txt',\n",
              " '/content/drive/MyDrive/MedMep/Prod_Diaria/Produção diária TXT_20171007T173501.txt',\n",
              " '/content/drive/MyDrive/MedMep/Prod_Diaria/Produção diária TXT_20171009T173500.txt',\n",
              " '/content/drive/MyDrive/MedMep/Prod_Diaria/Produção diária TXT_20171001T173500.txt',\n",
              " '/content/drive/MyDrive/MedMep/Prod_Diaria/Produção diária TXT_20170929T173500.txt',\n",
              " '/content/drive/MyDrive/MedMep/Prod_Diaria/Produção diária TXT_20171011T173501.txt',\n",
              " '/content/drive/MyDrive/MedMep/Prod_Diaria/Produção diária TXT_20171010T173500.txt',\n",
              " '/content/drive/MyDrive/MedMep/Prod_Diaria/Produção diária TXT_20171019T173501.txt',\n",
              " '/content/drive/MyDrive/MedMep/Prod_Diaria/Produção diária TXT_20171018T173501.txt',\n",
              " '/content/drive/MyDrive/MedMep/Prod_Diaria/Produção diária TXT_20171012T173501.txt',\n",
              " '/content/drive/MyDrive/MedMep/Prod_Diaria/Produção diária TXT_20171015T173500.txt',\n",
              " '/content/drive/MyDrive/MedMep/Prod_Diaria/Produção diária TXT_20171013T173500.txt',\n",
              " '/content/drive/MyDrive/MedMep/Prod_Diaria/Produção diária TXT_20171021T173501.txt',\n",
              " '/content/drive/MyDrive/MedMep/Prod_Diaria/Produção diária TXT_20171020T173501.txt',\n",
              " '/content/drive/MyDrive/MedMep/Prod_Diaria/Produção diária TXT_20171024T173500.txt',\n",
              " '/content/drive/MyDrive/MedMep/Prod_Diaria/Produção diária TXT_20171005T173501.txt',\n",
              " '/content/drive/MyDrive/MedMep/Prod_Diaria/Produção diária TXT_20171002T173500.txt',\n",
              " '/content/drive/MyDrive/MedMep/Prod_Diaria/Produção diária TXT_20171003T173500.txt',\n",
              " '/content/drive/MyDrive/MedMep/Prod_Diaria/Produção diária TXT_20170930T173500.txt',\n",
              " '/content/drive/MyDrive/MedMep/Prod_Diaria/Produção diária TXT_20170928T173501.txt',\n",
              " '/content/drive/MyDrive/MedMep/Prod_Diaria/Produção diária TXT_20170927T173500.txt',\n",
              " '/content/drive/MyDrive/MedMep/Prod_Diaria/Produção diária TXT_20170924T173500.txt',\n",
              " '/content/drive/MyDrive/MedMep/Prod_Diaria/Produção diária TXT_20170922T173500.txt',\n",
              " '/content/drive/MyDrive/MedMep/Prod_Diaria/Produção diária TXT_20170925T173500.txt']"
            ]
          },
          "metadata": {
            "tags": []
          },
          "execution_count": 23
        }
      ]
    },
    {
      "cell_type": "markdown",
      "metadata": {
        "id": "AtfX6yidz_5V"
      },
      "source": [
        "###Passo 3 - Definição de como capturar a data que está no nome do arquivo\r\n",
        "- É necessário capturar a data inserindo-a em uma coluna adicional para que possamos utilizar os dados de produção de leite em conjunto com os dados de temperatura\r\n",
        "- Foi necessário tratar da o formato da data capturado"
      ]
    },
    {
      "cell_type": "code",
      "metadata": {
        "id": "2cPRmxePLxyY",
        "colab": {
          "base_uri": "https://localhost:8080/",
          "height": 52
        },
        "outputId": "151d0c63-6d7c-4b7c-ea72-fc92ddc5f693"
      },
      "source": [
        "# Ler parte do nome do arquivo\r\n",
        "b = re.search(r'(\\d+)', '/content/drive/MyDrive/MedMep/Prod_Diaria/Produção diária TXT_20170901T173500.txt')\r\n",
        "print(b[1])\r\n",
        "\r\n",
        "#Formatando Data\r\n",
        "import datetime\r\n",
        "datetime.datetime.strptime(\"20170901\", \"%Y%m%d\").strftime(\"%d/%m/%Y\")"
      ],
      "execution_count": 24,
      "outputs": [
        {
          "output_type": "stream",
          "text": [
            "20170901\n"
          ],
          "name": "stdout"
        },
        {
          "output_type": "execute_result",
          "data": {
            "application/vnd.google.colaboratory.intrinsic+json": {
              "type": "string"
            },
            "text/plain": [
              "'01/09/2017'"
            ]
          },
          "metadata": {
            "tags": []
          },
          "execution_count": 24
        }
      ]
    },
    {
      "cell_type": "markdown",
      "metadata": {
        "id": "__nCn9eI0Nv1"
      },
      "source": [
        "###Passo 4 - Leitura dos arquivos\r\n",
        "- Foram disbonibilizados 177 arquivos no formato TXT, Nomenclatura: Produção diária TXT_AAAAMMDDTHHMMSS\r\n",
        "- Foi necessário descartar a primeira linha (cabeçalho) de todos os arquivos por falta de padrão nos arquivos enviados\r\n",
        "- Foi necessário remover as duas últimas linhas que comtinham comnandos de \"end line\" e não seriam necessários ao ralizarmos a concatenação dos arquivos\r\n",
        "- Foi necessário criar uma nova definição para o cabeçalho do DataFrame\r\n",
        "- Foi necessário criar uma nova coluna para a inserção da data da coleta que estava no nome do arquivo\r\n",
        "- Os 177 arquivos foram lidos e concatenados gerando um único DataFrame unificado com todos os dados da Produção Diária de leit"
      ]
    },
    {
      "cell_type": "code",
      "metadata": {
        "id": "HwCcqE627-lB",
        "colab": {
          "base_uri": "https://localhost:8080/",
          "height": 224
        },
        "outputId": "3573968c-5eef-409b-96f5-969ae45888ab"
      },
      "source": [
        "# Lendo os dados já com removendo o cabeçalho e rodapés dos arquivos\r\n",
        "# Necessário criar o \"Cabeçalho\" do DataFrame conforme comando asseguir:\r\n",
        "Prod_Dia_df = pd.DataFrame({'Grupo':[], 'Id_Animal':[], 'Num_Lac':[], 'Dias_Lac':[], 'Pico':[], 'Hora_S1':[],\r\n",
        "                            'Hora_S2':[], 'Hora_S3':[], 'Durac_S1':[], 'Durac_S2':[], 'Durac_S3':[],\r\n",
        "                            'Prod_S1':[], 'Prod_S2':[], 'Prod_S3':[], 'Hora_S1_ont':[], 'Hora_S2_ont':[], \r\n",
        "                            'Hora_S3_ont':[], 'Dura_S1_ont':[], 'Dura_S2_ont':[], \"Dura_S3_ont\":[],\r\n",
        "                            'Prod_S1_ont':[], 'Prod_S2_ont':[], 'Prod_S3_ont':[]})\r\n",
        "\r\n",
        "# Início do looping de leitura dos arquivos\r\n",
        "for filename in filenames:\r\n",
        "\r\n",
        "# Leitura dos arquivos já com o novo cabeçalho definido:\r\n",
        "  a = pd.read_csv(filename, skiprows=1, skipfooter=2, sep='\\t', encoding='latin1', engine='python', decimal=',',   \r\n",
        "                  names=['Grupo', 'Id_Animal', 'Num_Lac', 'Dias_Lac', 'Pico', 'Hora_S1', 'Hora_S2', 'Hora_S3',\r\n",
        "                         'Durac_S1', 'Durac_S2', 'Durac_S3', 'Prod_S1', 'Prod_S2', 'Prod_S3',\r\n",
        "                         'Hora_S1_ont', 'Hora_S2_ont', 'Hora_S3_ont', 'Dura_S1_ont', 'Dura_S2_ont', \"Dura_S3_ont\",\r\n",
        "                         'Prod_S1_ont', 'Prod_S2_ont', 'Prod_S3_ont'])\r\n",
        "# Criação da coluna adicional com a data contida no nome do arquivo:\r\n",
        "  a['Data']= datetime.datetime.strptime(re.search(r'(\\d+)', filename)[1], \"%Y%m%d\").strftime(\"%d/%m/%Y\") \r\n",
        "\r\n",
        "# Concatenando os arquivos lidos dentro do looping \r\n",
        "  Prod_Dia_df = pd.concat([Prod_Dia_df, a])\r\n",
        "# Fim do looping de leitura\r\n",
        "\r\n",
        "Prod_Dia_df.head()"
      ],
      "execution_count": 25,
      "outputs": [
        {
          "output_type": "execute_result",
          "data": {
            "text/html": [
              "<div>\n",
              "<style scoped>\n",
              "    .dataframe tbody tr th:only-of-type {\n",
              "        vertical-align: middle;\n",
              "    }\n",
              "\n",
              "    .dataframe tbody tr th {\n",
              "        vertical-align: top;\n",
              "    }\n",
              "\n",
              "    .dataframe thead th {\n",
              "        text-align: right;\n",
              "    }\n",
              "</style>\n",
              "<table border=\"1\" class=\"dataframe\">\n",
              "  <thead>\n",
              "    <tr style=\"text-align: right;\">\n",
              "      <th></th>\n",
              "      <th>Grupo</th>\n",
              "      <th>Id_Animal</th>\n",
              "      <th>Num_Lac</th>\n",
              "      <th>Dias_Lac</th>\n",
              "      <th>Pico</th>\n",
              "      <th>Hora_S1</th>\n",
              "      <th>Hora_S2</th>\n",
              "      <th>Hora_S3</th>\n",
              "      <th>Durac_S1</th>\n",
              "      <th>Durac_S2</th>\n",
              "      <th>Durac_S3</th>\n",
              "      <th>Prod_S1</th>\n",
              "      <th>Prod_S2</th>\n",
              "      <th>Prod_S3</th>\n",
              "      <th>Hora_S1_ont</th>\n",
              "      <th>Hora_S2_ont</th>\n",
              "      <th>Hora_S3_ont</th>\n",
              "      <th>Dura_S1_ont</th>\n",
              "      <th>Dura_S2_ont</th>\n",
              "      <th>Dura_S3_ont</th>\n",
              "      <th>Prod_S1_ont</th>\n",
              "      <th>Prod_S2_ont</th>\n",
              "      <th>Prod_S3_ont</th>\n",
              "      <th>Data</th>\n",
              "    </tr>\n",
              "  </thead>\n",
              "  <tbody>\n",
              "    <tr>\n",
              "      <th>0</th>\n",
              "      <td>1.0</td>\n",
              "      <td>5402.0</td>\n",
              "      <td>0.0</td>\n",
              "      <td></td>\n",
              "      <td></td>\n",
              "      <td></td>\n",
              "      <td></td>\n",
              "      <td></td>\n",
              "      <td></td>\n",
              "      <td></td>\n",
              "      <td></td>\n",
              "      <td></td>\n",
              "      <td></td>\n",
              "      <td></td>\n",
              "      <td></td>\n",
              "      <td></td>\n",
              "      <td></td>\n",
              "      <td></td>\n",
              "      <td></td>\n",
              "      <td></td>\n",
              "      <td></td>\n",
              "      <td></td>\n",
              "      <td></td>\n",
              "      <td>08/05/2017</td>\n",
              "    </tr>\n",
              "    <tr>\n",
              "      <th>1</th>\n",
              "      <td>1.0</td>\n",
              "      <td>5408.0</td>\n",
              "      <td>0.0</td>\n",
              "      <td></td>\n",
              "      <td></td>\n",
              "      <td></td>\n",
              "      <td></td>\n",
              "      <td></td>\n",
              "      <td></td>\n",
              "      <td></td>\n",
              "      <td></td>\n",
              "      <td></td>\n",
              "      <td></td>\n",
              "      <td></td>\n",
              "      <td></td>\n",
              "      <td></td>\n",
              "      <td></td>\n",
              "      <td></td>\n",
              "      <td></td>\n",
              "      <td></td>\n",
              "      <td></td>\n",
              "      <td></td>\n",
              "      <td></td>\n",
              "      <td>08/05/2017</td>\n",
              "    </tr>\n",
              "    <tr>\n",
              "      <th>2</th>\n",
              "      <td>1.0</td>\n",
              "      <td>4584.0</td>\n",
              "      <td>0.0</td>\n",
              "      <td></td>\n",
              "      <td></td>\n",
              "      <td></td>\n",
              "      <td></td>\n",
              "      <td></td>\n",
              "      <td></td>\n",
              "      <td></td>\n",
              "      <td></td>\n",
              "      <td></td>\n",
              "      <td></td>\n",
              "      <td></td>\n",
              "      <td></td>\n",
              "      <td></td>\n",
              "      <td></td>\n",
              "      <td></td>\n",
              "      <td></td>\n",
              "      <td></td>\n",
              "      <td></td>\n",
              "      <td></td>\n",
              "      <td></td>\n",
              "      <td>08/05/2017</td>\n",
              "    </tr>\n",
              "    <tr>\n",
              "      <th>3</th>\n",
              "      <td>1.0</td>\n",
              "      <td>4585.0</td>\n",
              "      <td>0.0</td>\n",
              "      <td></td>\n",
              "      <td></td>\n",
              "      <td></td>\n",
              "      <td></td>\n",
              "      <td></td>\n",
              "      <td></td>\n",
              "      <td></td>\n",
              "      <td></td>\n",
              "      <td></td>\n",
              "      <td></td>\n",
              "      <td></td>\n",
              "      <td></td>\n",
              "      <td></td>\n",
              "      <td></td>\n",
              "      <td></td>\n",
              "      <td></td>\n",
              "      <td></td>\n",
              "      <td></td>\n",
              "      <td></td>\n",
              "      <td></td>\n",
              "      <td>08/05/2017</td>\n",
              "    </tr>\n",
              "    <tr>\n",
              "      <th>4</th>\n",
              "      <td>1.0</td>\n",
              "      <td>4588.0</td>\n",
              "      <td>0.0</td>\n",
              "      <td></td>\n",
              "      <td></td>\n",
              "      <td></td>\n",
              "      <td></td>\n",
              "      <td></td>\n",
              "      <td></td>\n",
              "      <td></td>\n",
              "      <td></td>\n",
              "      <td></td>\n",
              "      <td></td>\n",
              "      <td></td>\n",
              "      <td></td>\n",
              "      <td></td>\n",
              "      <td></td>\n",
              "      <td></td>\n",
              "      <td></td>\n",
              "      <td></td>\n",
              "      <td></td>\n",
              "      <td></td>\n",
              "      <td></td>\n",
              "      <td>08/05/2017</td>\n",
              "    </tr>\n",
              "  </tbody>\n",
              "</table>\n",
              "</div>"
            ],
            "text/plain": [
              "   Grupo  Id_Animal  ...                Prod_S3_ont        Data\n",
              "0    1.0     5402.0  ...                             08/05/2017\n",
              "1    1.0     5408.0  ...                             08/05/2017\n",
              "2    1.0     4584.0  ...                             08/05/2017\n",
              "3    1.0     4585.0  ...                             08/05/2017\n",
              "4    1.0     4588.0  ...                             08/05/2017\n",
              "\n",
              "[5 rows x 24 columns]"
            ]
          },
          "metadata": {
            "tags": []
          },
          "execution_count": 25
        }
      ]
    },
    {
      "cell_type": "code",
      "metadata": {
        "id": "UmQgejvXQSdB"
      },
      "source": [
        "# Exportando dados dos arquivos unificados mas não limpos para CSV\r\n",
        "Prod_Dia_df.to_csv(\"/content/drive/MyDrive/MedMep/Prod_Diaria/Prod_Diaria_Unif_Sujo.csv\")"
      ],
      "execution_count": 26,
      "outputs": []
    },
    {
      "cell_type": "markdown",
      "metadata": {
        "id": "svh3psQwCiMl"
      },
      "source": [
        "###Limpeza do arquivo unificado\r\n",
        "- Remoção das colunas com dados não pertinentes ou que estavam em branco:\r\n",
        "- Informações sobre o Grupo não dizem nada ao nosso estudo (não se sabe o critério utilizado no agrupamento), \r\n",
        "- Numero de dias de lactação. Dado existe somente para poucos animais,\r\n",
        "- Pico de produção. Dado existe somente para poucos animais e não se sabe o seu significado,\r\n",
        "- Dura_Sx. Refere-se a duração da sessão de ordenha. Dado existe somente para poucas sessões de ordenha,\r\n",
        "- Dura_Sx_ont. Refere-se a duração da sessão de ordenha do dia anterior. Dado existe somente para poucas sessões de ordenha,\r\n",
        "- Prod_Sx_ont. Refere-se a produção da sessão Sx do dia anterior. Dado existe somente para poucas sessões e animais."
      ]
    },
    {
      "cell_type": "code",
      "metadata": {
        "id": "yGR7ok7zEte-"
      },
      "source": [
        "Prod_Dia_limpo_df = Prod_Dia_df.drop(columns=['Grupo', 'Num_Lac', 'Dias_Lac', 'Pico', 'Durac_S1', 'Durac_S2', 'Durac_S3', \r\n",
        "                                              'Hora_S1_ont', 'Hora_S2_ont', 'Hora_S3_ont', 'Dura_S1_ont', 'Dura_S2_ont', \"Dura_S3_ont\",\r\n",
        "                                              'Prod_S1_ont', 'Prod_S2_ont', 'Prod_S3_ont'])\r\n",
        "# Prod_Dia_limpo_df.head()\r\n",
        "\r\n",
        "# Prod_Dia_df.drop(columns=['Grupo', 'Num_Lac', 'Dias_Lac', 'Pico', 'Durac_S1', 'Durac_S2', 'Durac_S3', \r\n",
        "#          'Hora_S1_ont', 'Hora_S2_ont', 'Hora_S3_ont', 'Dura_S1_ont', 'Dura_S2_ont', \"Dura_S3_ont\",\r\n",
        "#          'Prod_S1_ont', 'Prod_S2_ont', 'Prod_S3_ont'], inplace=True)\r\n",
        "# Prod_Dia_df.head()"
      ],
      "execution_count": 27,
      "outputs": []
    },
    {
      "cell_type": "code",
      "metadata": {
        "id": "3NT6_eTNf3ko",
        "colab": {
          "base_uri": "https://localhost:8080/",
          "height": 204
        },
        "outputId": "16314f17-aef8-4a83-ddd3-8d580ccb0709"
      },
      "source": [
        "# Exibindo as primeiras linhas do arquivo\r\n",
        "Prod_Dia_limpo_df.head()"
      ],
      "execution_count": 28,
      "outputs": [
        {
          "output_type": "execute_result",
          "data": {
            "text/html": [
              "<div>\n",
              "<style scoped>\n",
              "    .dataframe tbody tr th:only-of-type {\n",
              "        vertical-align: middle;\n",
              "    }\n",
              "\n",
              "    .dataframe tbody tr th {\n",
              "        vertical-align: top;\n",
              "    }\n",
              "\n",
              "    .dataframe thead th {\n",
              "        text-align: right;\n",
              "    }\n",
              "</style>\n",
              "<table border=\"1\" class=\"dataframe\">\n",
              "  <thead>\n",
              "    <tr style=\"text-align: right;\">\n",
              "      <th></th>\n",
              "      <th>Id_Animal</th>\n",
              "      <th>Hora_S1</th>\n",
              "      <th>Hora_S2</th>\n",
              "      <th>Hora_S3</th>\n",
              "      <th>Prod_S1</th>\n",
              "      <th>Prod_S2</th>\n",
              "      <th>Prod_S3</th>\n",
              "      <th>Data</th>\n",
              "    </tr>\n",
              "  </thead>\n",
              "  <tbody>\n",
              "    <tr>\n",
              "      <th>0</th>\n",
              "      <td>5402.0</td>\n",
              "      <td></td>\n",
              "      <td></td>\n",
              "      <td></td>\n",
              "      <td></td>\n",
              "      <td></td>\n",
              "      <td></td>\n",
              "      <td>08/05/2017</td>\n",
              "    </tr>\n",
              "    <tr>\n",
              "      <th>1</th>\n",
              "      <td>5408.0</td>\n",
              "      <td></td>\n",
              "      <td></td>\n",
              "      <td></td>\n",
              "      <td></td>\n",
              "      <td></td>\n",
              "      <td></td>\n",
              "      <td>08/05/2017</td>\n",
              "    </tr>\n",
              "    <tr>\n",
              "      <th>2</th>\n",
              "      <td>4584.0</td>\n",
              "      <td></td>\n",
              "      <td></td>\n",
              "      <td></td>\n",
              "      <td></td>\n",
              "      <td></td>\n",
              "      <td></td>\n",
              "      <td>08/05/2017</td>\n",
              "    </tr>\n",
              "    <tr>\n",
              "      <th>3</th>\n",
              "      <td>4585.0</td>\n",
              "      <td></td>\n",
              "      <td></td>\n",
              "      <td></td>\n",
              "      <td></td>\n",
              "      <td></td>\n",
              "      <td></td>\n",
              "      <td>08/05/2017</td>\n",
              "    </tr>\n",
              "    <tr>\n",
              "      <th>4</th>\n",
              "      <td>4588.0</td>\n",
              "      <td></td>\n",
              "      <td></td>\n",
              "      <td></td>\n",
              "      <td></td>\n",
              "      <td></td>\n",
              "      <td></td>\n",
              "      <td>08/05/2017</td>\n",
              "    </tr>\n",
              "  </tbody>\n",
              "</table>\n",
              "</div>"
            ],
            "text/plain": [
              "   Id_Animal                        Hora_S1  ...                Prod_S3        Data\n",
              "0     5402.0                                 ...                         08/05/2017\n",
              "1     5408.0                                 ...                         08/05/2017\n",
              "2     4584.0                                 ...                         08/05/2017\n",
              "3     4585.0                                 ...                         08/05/2017\n",
              "4     4588.0                                 ...                         08/05/2017\n",
              "\n",
              "[5 rows x 8 columns]"
            ]
          },
          "metadata": {
            "tags": []
          },
          "execution_count": 28
        }
      ]
    },
    {
      "cell_type": "markdown",
      "metadata": {
        "id": "Ozqf6AH3SA-5"
      },
      "source": [
        "- Hora_Sx refere-se a hora que se iniciou a sessão de ordenha X no formato HH:00\r\n",
        "- Prod_Sx refere-se a produção de leite da sessão X em KG"
      ]
    },
    {
      "cell_type": "code",
      "metadata": {
        "id": "1J9CG_Paf8Yw",
        "colab": {
          "base_uri": "https://localhost:8080/",
          "height": 204
        },
        "outputId": "61695150-258c-4d1b-a645-4ac7c5b7fac3"
      },
      "source": [
        "# Exibindo as últimas linhas do arquivo\r\n",
        "Prod_Dia_limpo_df.tail()"
      ],
      "execution_count": 29,
      "outputs": [
        {
          "output_type": "execute_result",
          "data": {
            "text/html": [
              "<div>\n",
              "<style scoped>\n",
              "    .dataframe tbody tr th:only-of-type {\n",
              "        vertical-align: middle;\n",
              "    }\n",
              "\n",
              "    .dataframe tbody tr th {\n",
              "        vertical-align: top;\n",
              "    }\n",
              "\n",
              "    .dataframe thead th {\n",
              "        text-align: right;\n",
              "    }\n",
              "</style>\n",
              "<table border=\"1\" class=\"dataframe\">\n",
              "  <thead>\n",
              "    <tr style=\"text-align: right;\">\n",
              "      <th></th>\n",
              "      <th>Id_Animal</th>\n",
              "      <th>Hora_S1</th>\n",
              "      <th>Hora_S2</th>\n",
              "      <th>Hora_S3</th>\n",
              "      <th>Prod_S1</th>\n",
              "      <th>Prod_S2</th>\n",
              "      <th>Prod_S3</th>\n",
              "      <th>Data</th>\n",
              "    </tr>\n",
              "  </thead>\n",
              "  <tbody>\n",
              "    <tr>\n",
              "      <th>67</th>\n",
              "      <td>4453.0</td>\n",
              "      <td></td>\n",
              "      <td></td>\n",
              "      <td></td>\n",
              "      <td></td>\n",
              "      <td></td>\n",
              "      <td></td>\n",
              "      <td>25/09/2017</td>\n",
              "    </tr>\n",
              "    <tr>\n",
              "      <th>68</th>\n",
              "      <td>3538.0</td>\n",
              "      <td></td>\n",
              "      <td></td>\n",
              "      <td></td>\n",
              "      <td></td>\n",
              "      <td></td>\n",
              "      <td></td>\n",
              "      <td>25/09/2017</td>\n",
              "    </tr>\n",
              "    <tr>\n",
              "      <th>69</th>\n",
              "      <td>3460.0</td>\n",
              "      <td></td>\n",
              "      <td></td>\n",
              "      <td></td>\n",
              "      <td></td>\n",
              "      <td></td>\n",
              "      <td></td>\n",
              "      <td>25/09/2017</td>\n",
              "    </tr>\n",
              "    <tr>\n",
              "      <th>70</th>\n",
              "      <td>2483.0</td>\n",
              "      <td></td>\n",
              "      <td></td>\n",
              "      <td></td>\n",
              "      <td></td>\n",
              "      <td></td>\n",
              "      <td></td>\n",
              "      <td>25/09/2017</td>\n",
              "    </tr>\n",
              "    <tr>\n",
              "      <th>71</th>\n",
              "      <td>2431.0</td>\n",
              "      <td></td>\n",
              "      <td></td>\n",
              "      <td></td>\n",
              "      <td></td>\n",
              "      <td></td>\n",
              "      <td></td>\n",
              "      <td>25/09/2017</td>\n",
              "    </tr>\n",
              "  </tbody>\n",
              "</table>\n",
              "</div>"
            ],
            "text/plain": [
              "    Id_Animal  ...        Data\n",
              "67     4453.0  ...  25/09/2017\n",
              "68     3538.0  ...  25/09/2017\n",
              "69     3460.0  ...  25/09/2017\n",
              "70     2483.0  ...  25/09/2017\n",
              "71     2431.0  ...  25/09/2017\n",
              "\n",
              "[5 rows x 8 columns]"
            ]
          },
          "metadata": {
            "tags": []
          },
          "execution_count": 29
        }
      ]
    },
    {
      "cell_type": "markdown",
      "metadata": {
        "id": "imBIxpR1NKsF"
      },
      "source": [
        "###Salvando os dados limpos em arquivo para utilização futura\r\n",
        "- Será salvo no formato CSV de maneira a facilitar a leitura nas próximas etapas"
      ]
    },
    {
      "cell_type": "code",
      "metadata": {
        "id": "b5hjUZMmgZuQ"
      },
      "source": [
        "# Exportando dados dos arquivos unificados e limpos para CSV\r\n",
        "Prod_Dia_df.to_csv(\"/content/drive/MyDrive/MedMep/Prod_Diaria/Prod_Diaria_Unificado.csv\")"
      ],
      "execution_count": 30,
      "outputs": []
    },
    {
      "cell_type": "markdown",
      "metadata": {
        "id": "2QHUI_-1M7Li"
      },
      "source": [
        "##Entendendo os dados\r\n"
      ]
    },
    {
      "cell_type": "markdown",
      "metadata": {
        "id": "6LWdZBdFRZyS"
      },
      "source": [
        "###Estatística descritiva - análise inicial"
      ]
    },
    {
      "cell_type": "code",
      "metadata": {
        "colab": {
          "base_uri": "https://localhost:8080/",
          "height": 204
        },
        "id": "rXt-r5l9smqW",
        "outputId": "adbc1a1b-c632-46b2-c821-00d4de156aae"
      },
      "source": [
        "df=pd.read_csv('https://raw.githubusercontent.com/InstitutodaVinci3/Vancouver/master/Prod_Diaria_Unificado.csv')\r\n",
        "df.head()"
      ],
      "execution_count": 31,
      "outputs": [
        {
          "output_type": "execute_result",
          "data": {
            "text/html": [
              "<div>\n",
              "<style scoped>\n",
              "    .dataframe tbody tr th:only-of-type {\n",
              "        vertical-align: middle;\n",
              "    }\n",
              "\n",
              "    .dataframe tbody tr th {\n",
              "        vertical-align: top;\n",
              "    }\n",
              "\n",
              "    .dataframe thead th {\n",
              "        text-align: right;\n",
              "    }\n",
              "</style>\n",
              "<table border=\"1\" class=\"dataframe\">\n",
              "  <thead>\n",
              "    <tr style=\"text-align: right;\">\n",
              "      <th></th>\n",
              "      <th>Unnamed: 0</th>\n",
              "      <th>Id_Animal</th>\n",
              "      <th>Hora_S1</th>\n",
              "      <th>Hora_S2</th>\n",
              "      <th>Hora_S3</th>\n",
              "      <th>Prod_S1</th>\n",
              "      <th>Prod_S2</th>\n",
              "      <th>Prod_S3</th>\n",
              "      <th>Data</th>\n",
              "    </tr>\n",
              "  </thead>\n",
              "  <tbody>\n",
              "    <tr>\n",
              "      <th>0</th>\n",
              "      <td>0</td>\n",
              "      <td>653.0</td>\n",
              "      <td>07:47</td>\n",
              "      <td>15:26</td>\n",
              "      <td></td>\n",
              "      <td>15.84</td>\n",
              "      <td>7.88</td>\n",
              "      <td></td>\n",
              "      <td>01/09/2017</td>\n",
              "    </tr>\n",
              "    <tr>\n",
              "      <th>1</th>\n",
              "      <td>1</td>\n",
              "      <td>2623.0</td>\n",
              "      <td>08:09</td>\n",
              "      <td>15:43</td>\n",
              "      <td></td>\n",
              "      <td>13.81</td>\n",
              "      <td>7.66</td>\n",
              "      <td></td>\n",
              "      <td>01/09/2017</td>\n",
              "    </tr>\n",
              "    <tr>\n",
              "      <th>2</th>\n",
              "      <td>2</td>\n",
              "      <td>2624.0</td>\n",
              "      <td>07:59</td>\n",
              "      <td>15:35</td>\n",
              "      <td></td>\n",
              "      <td>12.63</td>\n",
              "      <td>10.54</td>\n",
              "      <td></td>\n",
              "      <td>01/09/2017</td>\n",
              "    </tr>\n",
              "    <tr>\n",
              "      <th>3</th>\n",
              "      <td>3</td>\n",
              "      <td>2662.0</td>\n",
              "      <td>09:31</td>\n",
              "      <td></td>\n",
              "      <td></td>\n",
              "      <td>13.64</td>\n",
              "      <td></td>\n",
              "      <td></td>\n",
              "      <td>01/09/2017</td>\n",
              "    </tr>\n",
              "    <tr>\n",
              "      <th>4</th>\n",
              "      <td>4</td>\n",
              "      <td>3652.0</td>\n",
              "      <td>07:47</td>\n",
              "      <td>15:26</td>\n",
              "      <td></td>\n",
              "      <td>12.73</td>\n",
              "      <td>6.80</td>\n",
              "      <td></td>\n",
              "      <td>01/09/2017</td>\n",
              "    </tr>\n",
              "  </tbody>\n",
              "</table>\n",
              "</div>"
            ],
            "text/plain": [
              "   Unnamed: 0  Id_Animal  ...                    Prod_S3        Data\n",
              "0           0      653.0  ...                             01/09/2017\n",
              "1           1     2623.0  ...                             01/09/2017\n",
              "2           2     2624.0  ...                             01/09/2017\n",
              "3           3     2662.0  ...                             01/09/2017\n",
              "4           4     3652.0  ...                             01/09/2017\n",
              "\n",
              "[5 rows x 9 columns]"
            ]
          },
          "metadata": {
            "tags": []
          },
          "execution_count": 31
        }
      ]
    },
    {
      "cell_type": "code",
      "metadata": {
        "colab": {
          "base_uri": "https://localhost:8080/"
        },
        "id": "t02uP1S8YxlX",
        "outputId": "bac729e6-b404-4c46-ee4b-98317f1d1eac"
      },
      "source": [
        "df.shape"
      ],
      "execution_count": 41,
      "outputs": [
        {
          "output_type": "execute_result",
          "data": {
            "text/plain": [
              "(4032, 9)"
            ]
          },
          "metadata": {
            "tags": []
          },
          "execution_count": 41
        }
      ]
    },
    {
      "cell_type": "code",
      "metadata": {
        "colab": {
          "base_uri": "https://localhost:8080/",
          "height": 297
        },
        "id": "iz5yzYVaXGDn",
        "outputId": "706f55f6-96c3-436c-f931-9f145543c2c4"
      },
      "source": [
        "df.describe()"
      ],
      "execution_count": 39,
      "outputs": [
        {
          "output_type": "execute_result",
          "data": {
            "text/html": [
              "<div>\n",
              "<style scoped>\n",
              "    .dataframe tbody tr th:only-of-type {\n",
              "        vertical-align: middle;\n",
              "    }\n",
              "\n",
              "    .dataframe tbody tr th {\n",
              "        vertical-align: top;\n",
              "    }\n",
              "\n",
              "    .dataframe thead th {\n",
              "        text-align: right;\n",
              "    }\n",
              "</style>\n",
              "<table border=\"1\" class=\"dataframe\">\n",
              "  <thead>\n",
              "    <tr style=\"text-align: right;\">\n",
              "      <th></th>\n",
              "      <th>Unnamed: 0</th>\n",
              "      <th>Id_Animal</th>\n",
              "    </tr>\n",
              "  </thead>\n",
              "  <tbody>\n",
              "    <tr>\n",
              "      <th>count</th>\n",
              "      <td>4032.000000</td>\n",
              "      <td>4032.000000</td>\n",
              "    </tr>\n",
              "    <tr>\n",
              "      <th>mean</th>\n",
              "      <td>35.500000</td>\n",
              "      <td>3969.930556</td>\n",
              "    </tr>\n",
              "    <tr>\n",
              "      <th>std</th>\n",
              "      <td>20.785183</td>\n",
              "      <td>926.571380</td>\n",
              "    </tr>\n",
              "    <tr>\n",
              "      <th>min</th>\n",
              "      <td>0.000000</td>\n",
              "      <td>653.000000</td>\n",
              "    </tr>\n",
              "    <tr>\n",
              "      <th>25%</th>\n",
              "      <td>17.750000</td>\n",
              "      <td>3471.250000</td>\n",
              "    </tr>\n",
              "    <tr>\n",
              "      <th>50%</th>\n",
              "      <td>35.500000</td>\n",
              "      <td>4459.000000</td>\n",
              "    </tr>\n",
              "    <tr>\n",
              "      <th>75%</th>\n",
              "      <td>53.250000</td>\n",
              "      <td>4557.750000</td>\n",
              "    </tr>\n",
              "    <tr>\n",
              "      <th>max</th>\n",
              "      <td>71.000000</td>\n",
              "      <td>5409.000000</td>\n",
              "    </tr>\n",
              "  </tbody>\n",
              "</table>\n",
              "</div>"
            ],
            "text/plain": [
              "        Unnamed: 0    Id_Animal\n",
              "count  4032.000000  4032.000000\n",
              "mean     35.500000  3969.930556\n",
              "std      20.785183   926.571380\n",
              "min       0.000000   653.000000\n",
              "25%      17.750000  3471.250000\n",
              "50%      35.500000  4459.000000\n",
              "75%      53.250000  4557.750000\n",
              "max      71.000000  5409.000000"
            ]
          },
          "metadata": {
            "tags": []
          },
          "execution_count": 39
        }
      ]
    },
    {
      "cell_type": "markdown",
      "metadata": {
        "id": "RPi-J_IdXZ9o"
      },
      "source": [
        "- A função Describe não realizou as estastíticas para as colunas Prod_Sx (ñ estão sendo entendidos como numéricos?)"
      ]
    },
    {
      "cell_type": "code",
      "metadata": {
        "colab": {
          "base_uri": "https://localhost:8080/"
        },
        "id": "8UoGzld9Rm8J",
        "outputId": "dd159d9f-d57e-4507-88cb-ad9e859d732a"
      },
      "source": [
        "df.Prod_S1.describe()"
      ],
      "execution_count": 32,
      "outputs": [
        {
          "output_type": "execute_result",
          "data": {
            "text/plain": [
              "count                          4032\n",
              "unique                          972\n",
              "top                                \n",
              "freq                           2066\n",
              "Name: Prod_S1, dtype: object"
            ]
          },
          "metadata": {
            "tags": []
          },
          "execution_count": 32
        }
      ]
    },
    {
      "cell_type": "code",
      "metadata": {
        "colab": {
          "base_uri": "https://localhost:8080/"
        },
        "id": "wPMgg5s_UA1l",
        "outputId": "268bd05e-4007-4f6c-c5e5-25ce92ea74ce"
      },
      "source": [
        "df.Prod_S2.describe()"
      ],
      "execution_count": 36,
      "outputs": [
        {
          "output_type": "execute_result",
          "data": {
            "text/plain": [
              "count                          4032\n",
              "unique                          715\n",
              "top                                \n",
              "freq                           2170\n",
              "Name: Prod_S2, dtype: object"
            ]
          },
          "metadata": {
            "tags": []
          },
          "execution_count": 36
        }
      ]
    },
    {
      "cell_type": "code",
      "metadata": {
        "colab": {
          "base_uri": "https://localhost:8080/"
        },
        "id": "8qlwuOzaUK5M",
        "outputId": "85dd799b-369f-44ec-c63f-2262c7a9d04b"
      },
      "source": [
        "df.Prod_S3.describe()"
      ],
      "execution_count": 37,
      "outputs": [
        {
          "output_type": "execute_result",
          "data": {
            "text/plain": [
              "count                          4032\n",
              "unique                           29\n",
              "top                                \n",
              "freq                           4004\n",
              "Name: Prod_S3, dtype: object"
            ]
          },
          "metadata": {
            "tags": []
          },
          "execution_count": 37
        }
      ]
    },
    {
      "cell_type": "markdown",
      "metadata": {
        "id": "8VWME_FjiikW"
      },
      "source": [
        "###Dashboard"
      ]
    },
    {
      "cell_type": "code",
      "metadata": {
        "colab": {
          "base_uri": "https://localhost:8080/",
          "height": 204
        },
        "id": "W4p5GltHinqX",
        "outputId": "929bc553-7566-4497-b5d3-49ea21fa3550"
      },
      "source": [
        "df=pd.read_csv('https://raw.githubusercontent.com/InstitutodaVinci3/Vancouver/master/Prod_Diaria_Unificado.csv')\r\n",
        "df.head()"
      ],
      "execution_count": 33,
      "outputs": [
        {
          "output_type": "execute_result",
          "data": {
            "text/html": [
              "<div>\n",
              "<style scoped>\n",
              "    .dataframe tbody tr th:only-of-type {\n",
              "        vertical-align: middle;\n",
              "    }\n",
              "\n",
              "    .dataframe tbody tr th {\n",
              "        vertical-align: top;\n",
              "    }\n",
              "\n",
              "    .dataframe thead th {\n",
              "        text-align: right;\n",
              "    }\n",
              "</style>\n",
              "<table border=\"1\" class=\"dataframe\">\n",
              "  <thead>\n",
              "    <tr style=\"text-align: right;\">\n",
              "      <th></th>\n",
              "      <th>Unnamed: 0</th>\n",
              "      <th>Id_Animal</th>\n",
              "      <th>Hora_S1</th>\n",
              "      <th>Hora_S2</th>\n",
              "      <th>Hora_S3</th>\n",
              "      <th>Prod_S1</th>\n",
              "      <th>Prod_S2</th>\n",
              "      <th>Prod_S3</th>\n",
              "      <th>Data</th>\n",
              "    </tr>\n",
              "  </thead>\n",
              "  <tbody>\n",
              "    <tr>\n",
              "      <th>0</th>\n",
              "      <td>0</td>\n",
              "      <td>653.0</td>\n",
              "      <td>07:47</td>\n",
              "      <td>15:26</td>\n",
              "      <td></td>\n",
              "      <td>15.84</td>\n",
              "      <td>7.88</td>\n",
              "      <td></td>\n",
              "      <td>01/09/2017</td>\n",
              "    </tr>\n",
              "    <tr>\n",
              "      <th>1</th>\n",
              "      <td>1</td>\n",
              "      <td>2623.0</td>\n",
              "      <td>08:09</td>\n",
              "      <td>15:43</td>\n",
              "      <td></td>\n",
              "      <td>13.81</td>\n",
              "      <td>7.66</td>\n",
              "      <td></td>\n",
              "      <td>01/09/2017</td>\n",
              "    </tr>\n",
              "    <tr>\n",
              "      <th>2</th>\n",
              "      <td>2</td>\n",
              "      <td>2624.0</td>\n",
              "      <td>07:59</td>\n",
              "      <td>15:35</td>\n",
              "      <td></td>\n",
              "      <td>12.63</td>\n",
              "      <td>10.54</td>\n",
              "      <td></td>\n",
              "      <td>01/09/2017</td>\n",
              "    </tr>\n",
              "    <tr>\n",
              "      <th>3</th>\n",
              "      <td>3</td>\n",
              "      <td>2662.0</td>\n",
              "      <td>09:31</td>\n",
              "      <td></td>\n",
              "      <td></td>\n",
              "      <td>13.64</td>\n",
              "      <td></td>\n",
              "      <td></td>\n",
              "      <td>01/09/2017</td>\n",
              "    </tr>\n",
              "    <tr>\n",
              "      <th>4</th>\n",
              "      <td>4</td>\n",
              "      <td>3652.0</td>\n",
              "      <td>07:47</td>\n",
              "      <td>15:26</td>\n",
              "      <td></td>\n",
              "      <td>12.73</td>\n",
              "      <td>6.80</td>\n",
              "      <td></td>\n",
              "      <td>01/09/2017</td>\n",
              "    </tr>\n",
              "  </tbody>\n",
              "</table>\n",
              "</div>"
            ],
            "text/plain": [
              "   Unnamed: 0  Id_Animal  ...                    Prod_S3        Data\n",
              "0           0      653.0  ...                             01/09/2017\n",
              "1           1     2623.0  ...                             01/09/2017\n",
              "2           2     2624.0  ...                             01/09/2017\n",
              "3           3     2662.0  ...                             01/09/2017\n",
              "4           4     3652.0  ...                             01/09/2017\n",
              "\n",
              "[5 rows x 9 columns]"
            ]
          },
          "metadata": {
            "tags": []
          },
          "execution_count": 33
        }
      ]
    },
    {
      "cell_type": "code",
      "metadata": {
        "id": "Qoh45xXbC-Pk"
      },
      "source": [
        "# Producao_S1 = Prod_Dia_df.groupby('Id_Animal').Prod_S1.sum()\r\n",
        "# Producao_S1"
      ],
      "execution_count": 34,
      "outputs": []
    },
    {
      "cell_type": "code",
      "metadata": {
        "id": "cjbkCgRJEzRN"
      },
      "source": [
        "# Exportando dados dos arquivos unificados para Excel\r\n",
        "# Producao_S1.to_excel('/content/drive/MyDrive/MedMep/Prod_Diaria/Producao-S1.xlsx')"
      ],
      "execution_count": 35,
      "outputs": []
    }
  ]
}